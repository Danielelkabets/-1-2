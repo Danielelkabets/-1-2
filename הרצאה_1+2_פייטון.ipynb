{
  "cells": [
    {
      "cell_type": "markdown",
      "metadata": {
        "id": "uw_7naeMOawQ"
      },
      "source": [
        "**כל הזכויות שמורות לי - דר׳ אלכסנדרה ליטינסקי סימנובסקי אין לעתיק ולהשתמש בחומר ללא רשות**"
      ]
    },
    {
      "cell_type": "markdown",
      "metadata": {
        "id": "w6ReTkwzOawS"
      },
      "source": [
        "# **Python**"
      ]
    },
    {
      "cell_type": "markdown",
      "metadata": {
        "id": "ltaQJvk8OawS"
      },
      "source": [
        "# **0 - Installation and Quick Start**"
      ]
    },
    {
      "cell_type": "markdown",
      "metadata": {
        "id": "c__tOoUdOawS"
      },
      "source": [
        "## **Installation**\n",
        "\n",
        "Install Python (but it is probably already installed.\n",
        "\n",
        "\n",
        "In Data Science, it is common to use [Anaconda](https://www.anaconda.com/products/individual-d) to download and install Python and its environment."
      ]
    },
    {
      "cell_type": "markdown",
      "metadata": {
        "id": "BfDbWlFxOawT"
      },
      "source": [
        "## **Writing Code**\n",
        "\n",
        "Several options exists, more ore less user-friendly."
      ]
    },
    {
      "cell_type": "markdown",
      "metadata": {
        "id": "NfKSdpuiOawT"
      },
      "source": [
        "### **In the python shell**\n",
        "\n",
        "\n",
        "The python shell can be launched by typing the command `python` in a terminal (this works on Linux, Mac, and Windows with PowerShell). To exit it, type `exit()`.\n",
        "\n",
        "\n",
        "\n",
        "From the shell, you can enter Python code that will be executed on the run as you press Enter. As long as you are in the same shell, you keep your variables, but as soon as you exit it, everything is lost. It might not be the best option...\n",
        "\n"
      ]
    },
    {
      "cell_type": "markdown",
      "metadata": {
        "id": "p-064gtvOawT"
      },
      "source": [
        "### **From a file**\n",
        "\n",
        "\n",
        "You can write your code in a file and then execute it with Python. The extension of Python files is typically `.py`.\n",
        "\n",
        "If you create a file `test.py`  (using any text editor) containing the following code:\n",
        "\n",
        "---\n",
        "~~~\n",
        "a = 10\n",
        "a = a + 7\n",
        "\n",
        "print(a)\n",
        "~~~\n",
        "---\n",
        "\n",
        "Then, you can run it using the command `python test.py` in a terminal from the *same folder* as the file.\n",
        "\n",
        "\n",
        "\n",
        "\n",
        "This is a conveniant solution to run some code but it is probably not the best way to code.\n",
        "\n",
        "------------------------\n",
        "\n",
        "### Using an integrated development environment (IDE)\n",
        "\n",
        "\n",
        "You can edit you Python code files with IDEs that offer debuggers, syntax checking, etc. Two popular exemples are:\n",
        "\n",
        "* [VS Code](https://code.visualstudio.com/) which has a very good Python integration while not being restricted to it.\n",
        "* [Pycharm](https://www.jetbrains.com/pycharm/)\n",
        "\n"
      ]
    },
    {
      "cell_type": "markdown",
      "metadata": {
        "id": "qIMFyy-qOawT"
      },
      "source": [
        "---\n",
        "### Jupyter notebooks\n",
        "\n",
        "\n",
        "[Jupyter notebooks](https://jupyter.org/) are browser-based notebooks for Julia, Python, and R, they correspond to `.ipynb` files. The main features of jupyter notebooks are:\n",
        "* In-browser editing for code, with automatic syntax highlighting, indentation, and tab completion/introspection.\n",
        "* The ability to execute code from the browser and plot inline.\n",
        "* In-browser editing for rich text using the Markdown markup language.\n",
        "* The ability to include mathematical notation within markdown cells using LaTeX, and rendered natively by MathJax.\n",
        "\n",
        "\n",
        "#### **Installation**\n",
        "\n",
        "In a terminal, enter `python -m pip install notebook` or simply `pip install notebook`\n",
        "\n",
        "*Note :* Anaconda directly comes with notebooks, they can be lauched from the Navigator directly.\n",
        "\n",
        "\n",
        "#### **Use**\n",
        "\n",
        "To lauch Jupyter, enter `jupyter notebook`.\n",
        "\n",
        "This starts a *kernel* (a process that runs and interfaces the notebook content with an (i)Python shell) and opens a tab in the *browser*. The whole interface of Jupyter notebook is *web-based* and can be accessed at the address http://localhost:8888 .\n",
        "\n",
        "Then, you can either create a new notebook or open a notebooks (`.ipynb` file) of the current folder.\n",
        "\n",
        "*Note :* Closing the tab *does not terminate* the notebook, it can still be accessed at the above adress. To terminate it, use the interface (File -> Close and Halt) or in the kernel terminal type `Ctrl+C`.\n",
        "\n",
        "\n",
        "#### **Remote notebook exectution**\n",
        "\n",
        "Without any installation, you can:\n",
        "* *view* notebooks using [NBViewer](https://nbviewer.jupyter.org/)\n",
        "* *fully interact* with notebooks  [Google Colab](https://colab.research.google.com/)"
      ]
    },
    {
      "cell_type": "markdown",
      "metadata": {
        "id": "vsa5pQRQOawU"
      },
      "source": [
        "---\n",
        "#### **Interface**\n",
        "\n",
        "Notebook documents contains the inputs and outputs of an interactive python shell as well as additional text that accompanies the code but is not meant for execution. In this way, notebook files can serve as a complete computational record of a session, interleaving executable code with explanatory text, mathematics, and representations of resulting objects. These documents are saved with the `.ipynb` extension.\n",
        "\n",
        "Notebooks may be exported to a range of static formats, including HTML (for example, for blog posts), LaTeX, PDF, etc. by `File->Download as`\n",
        "\n",
        "\n",
        "\n",
        "##### **Editing notebooks**\n",
        "You can modify the title (that is the file name) by clicking on it next to the jupyter logo.\n",
        "The notebooks are a succession of *cells*, that can be of four types:\n",
        "* `code` for python code (as in ipython)\n",
        "* `markdown` for text in Markdown formatting (see this [Cheatsheet](https://github.com/adam-p/markdown-here/wiki/Markdown-Cheatsheet)). You may additionally use HTML and Latex math formulas.\n",
        "* `raw` and `heading` are less used for raw text and titles\n",
        "\n",
        "##### **Cells**\n",
        "You can *edit* a cell by double-clicking on it.\n",
        "You can *run* a cell by using the menu or typing `Ctrl+Enter` (You can also run all cells, all cells above a certain point). It if is a text cell, it will be formatted. If it is a code cell it will run as it was entered in a ipython shell, which means all previous actions, functions, variables defined, are persistent. To get a clean slate, your have to *restart the kernel* by using `Kernel->Restart`.\n",
        "\n",
        "##### **Useful commands**\n",
        "\n",
        "* `Tab` autocompletes\n",
        "* `Shift+Tab` gives the docstring of the input function\n",
        "* `?` return the help\n",
        "\n"
      ]
    },
    {
      "cell_type": "markdown",
      "metadata": {
        "id": "bD0vsu_2OawU"
      },
      "source": [
        "# 1- Numbers and Variables\n",
        "\n",
        "\n",
        "## Variables\n"
      ]
    },
    {
      "cell_type": "code",
      "execution_count": null,
      "metadata": {
        "id": "856qDbMFOawV",
        "outputId": "fec4c9c6-bcd5-439c-8c2c-f318ce33a797"
      },
      "outputs": [
        {
          "data": {
            "text/plain": [
              "5"
            ]
          },
          "execution_count": 3,
          "metadata": {},
          "output_type": "execute_result"
        }
      ],
      "source": [
        "2 + 2 + 1 # comment"
      ]
    },
    {
      "cell_type": "markdown",
      "metadata": {
        "id": "LV3FUKUhOawW"
      },
      "source": [
        "## Variable Assignment\n",
        "- Binding a variable in Python means setting a name to hold a reference to some object.\n",
        "- Assignment creates references, not copies (like Java)\n",
        "- A variable is created the first time it appears on the left side of an assignment expression:\n",
        "    x = 3\n",
        "- An object is deleted (by the garbage collector) once it becomes unreachable.\n",
        "- Names in Python do not have an intrinsic type. Objects have types.\n",
        "- Python determines the type of the reference automatically based on what data is assigned to it.\n",
        "\n",
        "\n",
        "* when you want to assign a value to a variable you just use =\n",
        "* You can use the function: type to see the type"
      ]
    },
    {
      "cell_type": "code",
      "execution_count": null,
      "metadata": {
        "id": "thjAEjKWOawW"
      },
      "outputs": [],
      "source": [
        "# Can not start with number or special characters\n",
        "name_of_var = 2\n",
        "x = 2\n",
        "y = 3\n",
        "z = x + y"
      ]
    },
    {
      "cell_type": "markdown",
      "metadata": {
        "id": "ooeLdnNlOawX"
      },
      "source": [
        "Note that the line above doesn't print the value of z.\n",
        "After an assignment, Jupyter doesn't print the result.\n",
        "To view its value, add a line with the variable name:"
      ]
    },
    {
      "cell_type": "code",
      "execution_count": null,
      "metadata": {
        "id": "RHWkE-l_OawX",
        "outputId": "0c655b03-3223-4125-e2fd-ca298194e678"
      },
      "outputs": [
        {
          "data": {
            "text/plain": [
              "5"
            ]
          },
          "execution_count": 5,
          "metadata": {},
          "output_type": "execute_result"
        }
      ],
      "source": [
        "z"
      ]
    },
    {
      "cell_type": "code",
      "execution_count": null,
      "metadata": {
        "id": "KXWgAtNCOawX"
      },
      "outputs": [],
      "source": [
        "x=4"
      ]
    },
    {
      "cell_type": "code",
      "execution_count": null,
      "metadata": {
        "id": "vex9UfJlOawX",
        "outputId": "aa0214e0-9600-4a4a-b39b-bec78807572f"
      },
      "outputs": [
        {
          "name": "stdout",
          "output_type": "stream",
          "text": [
            "4\n"
          ]
        }
      ],
      "source": [
        "a = 4\n",
        "print(a)\n"
      ]
    },
    {
      "cell_type": "code",
      "execution_count": null,
      "metadata": {
        "id": "6LohdOsUOawX",
        "outputId": "622d0b85-8c56-4f83-feeb-d1cea6ba4c75"
      },
      "outputs": [
        {
          "name": "stdout",
          "output_type": "stream",
          "text": [
            "4\n",
            "9000\n"
          ]
        }
      ],
      "source": [
        "a,x = 4, 9000\n",
        "print(a)\n",
        "print(x)"
      ]
    },
    {
      "cell_type": "markdown",
      "metadata": {
        "id": "Kpm7MYAbOawY"
      },
      "source": [
        "* Variables names can contain `a-z`, `A-Z`, `0-9` and some special character as `_` but must always begin by a letter. By convention, variables names are smallcase.\n",
        "\n",
        "\n",
        "## **Types**\n",
        "\n",
        "* Variables are *weakly typed* in python which means that their type is deduced from the context: the initialization or the types of the variables used for its computation. Observe the following example.\n",
        "\n",
        "\n",
        "### **The three types of variables for today**\n",
        "        1. int - integer\n",
        "        2. float - non interger **Number**\n",
        "        3. String - Text variable  "
      ]
    },
    {
      "cell_type": "markdown",
      "metadata": {
        "id": "JJfxkD1dOawY"
      },
      "source": [
        "* You can use the function: type to see the type"
      ]
    },
    {
      "cell_type": "code",
      "execution_count": null,
      "metadata": {
        "id": "weSo4qDgOawY",
        "outputId": "70b2d9d0-0ff8-47c8-ffbb-3cb1d1ce0144"
      },
      "outputs": [
        {
          "name": "stdout",
          "output_type": "stream",
          "text": [
            "my_int type is <class 'int'>, my_float type is: <class 'float'>, my_string type is : <class 'str'>\n"
          ]
        }
      ],
      "source": [
        "my_int = 5\n",
        "my_float = 5.0\n",
        "my_string = 'my_string_value'\n",
        "print (f'my_int type is {type(my_int)}, my_float type is: {type(my_float)}, my_string type is : {type(my_string)}')"
      ]
    },
    {
      "cell_type": "code",
      "execution_count": null,
      "metadata": {
        "id": "JjD6JXjSOawY",
        "outputId": "8256894b-9ddd-470d-8962-e1358398e4cd"
      },
      "outputs": [
        {
          "name": "stdout",
          "output_type": "stream",
          "text": [
            "Integer\n",
            "3 <class 'int'>\n",
            "\n",
            "Float\n",
            "3.14 <class 'float'>\n",
            "\n",
            "Complex\n",
            "(3.14+2j) <class 'complex'>\n",
            "3.14 <class 'float'>\n",
            "2.0 <class 'float'>\n"
          ]
        }
      ],
      "source": [
        "print(\"Integer\")\n",
        "a = 3\n",
        "print(a,type(a))\n",
        "\n",
        "print(\"\\nFloat\")\n",
        "b = 3.14\n",
        "print(b,type(b))\n",
        "\n",
        "print(\"\\nComplex\")\n",
        "c = 3.14 + 2j\n",
        "print(c,type(c))\n",
        "print(c.real,type(c.real))\n",
        "print(c.imag,type(c.imag))"
      ]
    },
    {
      "cell_type": "markdown",
      "metadata": {
        "id": "Tc0v8DUTOawZ"
      },
      "source": [
        "This typing can lead to some variable having unwanted types, which can be resolved by *casting*"
      ]
    },
    {
      "cell_type": "code",
      "execution_count": null,
      "metadata": {
        "id": "KzxWqEYMOawZ",
        "outputId": "f1ff58e3-f641-48c1-ba73-5c2de1fa5b87"
      },
      "outputs": [
        {
          "name": "stdout",
          "output_type": "stream",
          "text": [
            "(-1+0j) <class 'complex'>\n",
            "-1.0 <class 'float'>\n",
            "-1 <class 'int'>\n"
          ]
        }
      ],
      "source": [
        "d = 1j*1j\n",
        "print(d,type(d))\n",
        "d = d.real\n",
        "print(d,type(d))\n",
        "d = int(d)\n",
        "print(d,type(d))"
      ]
    },
    {
      "cell_type": "code",
      "execution_count": null,
      "metadata": {
        "id": "WggKchDkOawZ",
        "outputId": "f0f6adf3-3cbd-4804-c6ce-d08929a032ac"
      },
      "outputs": [
        {
          "name": "stdout",
          "output_type": "stream",
          "text": [
            "3.3333333333333335 <class 'float'>\n",
            "1.0 <class 'float'>\n",
            "1 <class 'int'>\n"
          ]
        }
      ],
      "source": [
        "e = 10/3\n",
        "print(e,type(e))\n",
        "f = (10/3)/(10/3)\n",
        "print(f,type(f))\n",
        "f = int((10/3)/(10/3))\n",
        "print(f,type(f))"
      ]
    },
    {
      "cell_type": "markdown",
      "metadata": {
        "id": "0qvL4V9XOawa"
      },
      "source": [
        "**How to assign a value to a function?**\n",
        "- Just put it in the () parentheses\n",
        "How do you call that?\n",
        "That is an **argument**\n",
        "\n"
      ]
    },
    {
      "cell_type": "code",
      "execution_count": null,
      "metadata": {
        "id": "LGOYX-WvOawa",
        "outputId": "45eaf66e-d26c-433c-a867-660defa14378"
      },
      "outputs": [
        {
          "name": "stdout",
          "output_type": "stream",
          "text": [
            "Hello World!\n"
          ]
        }
      ],
      "source": [
        "print('Hello World!')"
      ]
    },
    {
      "cell_type": "markdown",
      "metadata": {
        "id": "bDXCIryJOawa"
      },
      "source": [
        "## **Operation on numbers**\n",
        "\n",
        "The usual operations are\n",
        "* Multiplication and Division with respecively `*` and `/`\n",
        "* Exponent with `**`\n",
        "* Modulo with `%`"
      ]
    },
    {
      "cell_type": "code",
      "execution_count": null,
      "metadata": {
        "id": "0KSX80MqOawb",
        "outputId": "95a0ad76-37c9-463b-a06e-7221e4c16618"
      },
      "outputs": [
        {
          "name": "stdout",
          "output_type": "stream",
          "text": [
            "21.0 <class 'float'>\n"
          ]
        }
      ],
      "source": [
        "print(7 * 3., type(7 * 3.))  # int x float -> float"
      ]
    },
    {
      "cell_type": "code",
      "execution_count": null,
      "metadata": {
        "id": "1kRgbMhXOawb",
        "outputId": "f7017b06-db91-4943-98db-a4ecdc7bc3d8"
      },
      "outputs": [
        {
          "name": "stdout",
          "output_type": "stream",
          "text": [
            "1.5 <class 'float'>\n",
            "1.5 <class 'float'>\n"
          ]
        }
      ],
      "source": [
        "print(3/2, type(3/2))  #  float in Python 3\n",
        "print(3/2., type(3/2.)) # To be sure"
      ]
    },
    {
      "cell_type": "code",
      "execution_count": null,
      "metadata": {
        "id": "SkUADAwvOawb",
        "outputId": "8d35cf32-066b-421a-b142-bfd6d9631638"
      },
      "outputs": [
        {
          "name": "stdout",
          "output_type": "stream",
          "text": [
            "1024 <class 'int'>\n"
          ]
        }
      ],
      "source": [
        "print(2**10, type(2**10))"
      ]
    },
    {
      "cell_type": "code",
      "execution_count": null,
      "metadata": {
        "id": "08hym2D5Oawb",
        "outputId": "e8087f93-e665-444f-b279-cde23c9797ea"
      },
      "outputs": [
        {
          "name": "stdout",
          "output_type": "stream",
          "text": [
            "0 <class 'int'>\n"
          ]
        }
      ],
      "source": [
        "print(8%2, type(8%2))"
      ]
    },
    {
      "cell_type": "code",
      "execution_count": null,
      "metadata": {
        "id": "EwscX5CqOawc",
        "outputId": "50be7e02-1d4f-4ee9-909d-868d8eef6339"
      },
      "outputs": [
        {
          "data": {
            "text/plain": [
              "9"
            ]
          },
          "execution_count": 8,
          "metadata": {},
          "output_type": "execute_result"
        }
      ],
      "source": [
        "# int to int --> int\n",
        "5 + 4"
      ]
    },
    {
      "cell_type": "code",
      "execution_count": null,
      "metadata": {
        "id": "KyRhx1pdOawc",
        "outputId": "c53802e6-3ea8-4f32-e377-f2373a6762e1"
      },
      "outputs": [
        {
          "data": {
            "text/plain": [
              "2.0"
            ]
          },
          "execution_count": 9,
          "metadata": {},
          "output_type": "execute_result"
        }
      ],
      "source": [
        "# int / int --> float\n",
        "# float / float --> float\n",
        "6 / 3"
      ]
    },
    {
      "cell_type": "code",
      "execution_count": null,
      "metadata": {
        "id": "qKDCdD2tOawc",
        "outputId": "7346373c-f22b-4279-ea9a-a608ec25e294"
      },
      "outputs": [
        {
          "data": {
            "text/plain": [
              "18"
            ]
          },
          "execution_count": 10,
          "metadata": {},
          "output_type": "execute_result"
        }
      ],
      "source": [
        "# int * int --> int\n",
        "6 * 3"
      ]
    },
    {
      "cell_type": "code",
      "execution_count": null,
      "metadata": {
        "id": "gVaEqDcEOawd",
        "outputId": "af094835-4c5b-49ea-a39f-35a14ab30317",
        "colab": {
          "base_uri": "https://localhost:8080/",
          "height": 141
        }
      },
      "outputs": [
        {
          "output_type": "error",
          "ename": "NameError",
          "evalue": "name 'my_string' is not defined",
          "traceback": [
            "\u001b[0;31m---------------------------------------------------------------------------\u001b[0m",
            "\u001b[0;31mNameError\u001b[0m                                 Traceback (most recent call last)",
            "\u001b[0;32m<ipython-input-2-14b56d9ec0d6>\u001b[0m in \u001b[0;36m<cell line: 1>\u001b[0;34m()\u001b[0m\n\u001b[0;32m----> 1\u001b[0;31m \u001b[0mmy_string\u001b[0m \u001b[0;34m+\u001b[0m \u001b[0mmy_string\u001b[0m\u001b[0;34m\u001b[0m\u001b[0;34m\u001b[0m\u001b[0m\n\u001b[0m",
            "\u001b[0;31mNameError\u001b[0m: name 'my_string' is not defined"
          ]
        }
      ],
      "source": [
        "my_string + my_string"
      ]
    },
    {
      "cell_type": "code",
      "execution_count": null,
      "metadata": {
        "id": "R58-3ozkOawd",
        "outputId": "3d38e909-0a0f-44f0-ddad-263414737bf4"
      },
      "outputs": [
        {
          "ename": "TypeError",
          "evalue": "unsupported operand type(s) for -: 'str' and 'str'",
          "output_type": "error",
          "traceback": [
            "\u001b[0;31m---------------------------------------------------------------------------\u001b[0m",
            "\u001b[0;31mTypeError\u001b[0m                                 Traceback (most recent call last)",
            "\u001b[0;32m<ipython-input-12-46262ea83a9d>\u001b[0m in \u001b[0;36m<module>\u001b[0;34m\u001b[0m\n\u001b[0;32m----> 1\u001b[0;31m \u001b[0mmy_string\u001b[0m \u001b[0;34m-\u001b[0m \u001b[0mmy_string\u001b[0m\u001b[0;34m\u001b[0m\u001b[0;34m\u001b[0m\u001b[0m\n\u001b[0m",
            "\u001b[0;31mTypeError\u001b[0m: unsupported operand type(s) for -: 'str' and 'str'"
          ]
        }
      ],
      "source": [
        "my_string - my_string"
      ]
    },
    {
      "cell_type": "code",
      "execution_count": null,
      "metadata": {
        "id": "Kp0h5rpwOawd",
        "outputId": "a1d6fdc0-885a-4d3e-e8a5-1b64e59bae0e"
      },
      "outputs": [
        {
          "ename": "TypeError",
          "evalue": "unsupported operand type(s) for /: 'str' and 'str'",
          "output_type": "error",
          "traceback": [
            "\u001b[0;31m---------------------------------------------------------------------------\u001b[0m",
            "\u001b[0;31mTypeError\u001b[0m                                 Traceback (most recent call last)",
            "\u001b[0;32m<ipython-input-13-164568a00c39>\u001b[0m in \u001b[0;36m<module>\u001b[0;34m\u001b[0m\n\u001b[0;32m----> 1\u001b[0;31m \u001b[0mmy_string\u001b[0m \u001b[0;34m/\u001b[0m \u001b[0mmy_string\u001b[0m\u001b[0;34m\u001b[0m\u001b[0;34m\u001b[0m\u001b[0m\n\u001b[0m",
            "\u001b[0;31mTypeError\u001b[0m: unsupported operand type(s) for /: 'str' and 'str'"
          ]
        }
      ],
      "source": [
        "my_string / my_string"
      ]
    },
    {
      "cell_type": "code",
      "execution_count": null,
      "metadata": {
        "id": "jfFwCY5xOawe",
        "outputId": "28b1f2be-12ce-4a22-b2d7-d3a90f80dc29"
      },
      "outputs": [
        {
          "ename": "TypeError",
          "evalue": "can't multiply sequence by non-int of type 'str'",
          "output_type": "error",
          "traceback": [
            "\u001b[0;31m---------------------------------------------------------------------------\u001b[0m",
            "\u001b[0;31mTypeError\u001b[0m                                 Traceback (most recent call last)",
            "\u001b[0;32m<ipython-input-14-f4df06c60ca6>\u001b[0m in \u001b[0;36m<module>\u001b[0;34m\u001b[0m\n\u001b[0;32m----> 1\u001b[0;31m \u001b[0mmy_string\u001b[0m \u001b[0;34m*\u001b[0m \u001b[0mmy_string\u001b[0m\u001b[0;34m\u001b[0m\u001b[0;34m\u001b[0m\u001b[0m\n\u001b[0m",
            "\u001b[0;31mTypeError\u001b[0m: can't multiply sequence by non-int of type 'str'"
          ]
        }
      ],
      "source": [
        "my_string * my_string"
      ]
    },
    {
      "cell_type": "code",
      "execution_count": null,
      "metadata": {
        "id": "L8BjO5FqOawe",
        "outputId": "d7cdf651-9661-4bd8-ecc3-884c0a596c0e",
        "colab": {
          "base_uri": "https://localhost:8080/",
          "height": 141
        }
      },
      "outputs": [
        {
          "output_type": "error",
          "ename": "NameError",
          "evalue": "name 'my_string' is not defined",
          "traceback": [
            "\u001b[0;31m---------------------------------------------------------------------------\u001b[0m",
            "\u001b[0;31mNameError\u001b[0m                                 Traceback (most recent call last)",
            "\u001b[0;32m<ipython-input-1-ae2a3be3957d>\u001b[0m in \u001b[0;36m<cell line: 1>\u001b[0;34m()\u001b[0m\n\u001b[0;32m----> 1\u001b[0;31m \u001b[0mmy_string\u001b[0m \u001b[0;34m*\u001b[0m \u001b[0;36m3\u001b[0m\u001b[0;34m\u001b[0m\u001b[0;34m\u001b[0m\u001b[0m\n\u001b[0m",
            "\u001b[0;31mNameError\u001b[0m: name 'my_string' is not defined"
          ]
        }
      ],
      "source": [
        "my_string * 3"
      ]
    },
    {
      "cell_type": "markdown",
      "metadata": {
        "id": "7XGNbWTqOawe"
      },
      "source": [
        "## **Booleans**\n",
        "\n",
        "Python  comes with Booleans (with predefined True and False displays that are basically just the integers 1 and 0).\n",
        "\n",
        "It also has a placeholder object called **None**.\n",
        "\n",
        "\n",
        "Boolean is the type of a variable `True` or `False` and thus are extremely useful when coding.\n",
        "* They can be obtained by comparisons  `>`, `>=` (greater, greater or égal), `<`, `<=` (smaller, smaller or equal) or membership `==` , `!=` (equality, different).\n",
        "* They can be manipulated by the logical operations `and`, `not`, `or`."
      ]
    },
    {
      "cell_type": "markdown",
      "metadata": {
        "id": "2QF7V8O9Oawe"
      },
      "source": [
        "\n",
        "<table class=\"table table-bordered\">\n",
        "<tr>\n",
        "<th style=\"width:10%\">Operator</th><th style=\"width:45%\">Description</th><th>Example</th>\n",
        "</tr>\n",
        "<tr>\n",
        "<td>==</td>\n",
        "<td>If the values of two operands are equal, then the condition becomes true.</td>\n",
        "<td> (a == b) is not true.</td>\n",
        "</tr>\n",
        "<tr>\n",
        "<td>!=</td>\n",
        "<td>If values of two operands are not equal, then condition becomes true.</td>\n",
        "</tr>\n",
        "<tr>\n",
        "<td>&lt;&gt;</td>\n",
        "<td>If values of two operands are not equal, then condition becomes true.</td>\n",
        "<td> (a &lt;&gt; b) is true. This is similar to != operator.</td>\n",
        "</tr>\n",
        "<tr>\n",
        "<td>&gt;</td>\n",
        "<td>If the value of left operand is greater than the value of right operand, then condition becomes true.</td>\n",
        "<td> (a &gt; b) is not true.</td>\n",
        "</tr>\n",
        "<tr>\n",
        "<td>&lt;</td>\n",
        "<td>If the value of left operand is less than the value of right operand, then condition becomes true.</td>\n",
        "<td> (a &lt; b) is true.</td>\n",
        "</tr>\n",
        "<tr>\n",
        "<td>&gt;=</td>\n",
        "<td>If the value of left operand is greater than or equal to the value of right operand, then condition becomes true.</td>\n",
        "<td> (a &gt;= b) is not true. </td>\n",
        "</tr>\n",
        "<tr>\n",
        "<td>&lt;=</td>\n",
        "<td>If the value of left operand is less than or equal to the value of right operand, then condition becomes true.</td>\n",
        "<td> (a &lt;= b) is true. </td>\n",
        "</tr>\n",
        "</table>"
      ]
    },
    {
      "cell_type": "code",
      "execution_count": null,
      "metadata": {
        "id": "lZDJyZl6Oawf",
        "outputId": "3e756530-490e-4d35-a7ae-696ecd28f7a9"
      },
      "outputs": [
        {
          "data": {
            "text/plain": [
              "True"
            ]
          },
          "execution_count": 78,
          "metadata": {},
          "output_type": "execute_result"
        }
      ],
      "source": [
        "# Set object to be a boolean\n",
        "a = True\n",
        "#Show\n",
        "a"
      ]
    },
    {
      "cell_type": "code",
      "execution_count": null,
      "metadata": {
        "id": "tUJkrPAPOawf",
        "outputId": "1ef0718e-afe1-41c6-ffad-811fca0334cf"
      },
      "outputs": [
        {
          "data": {
            "text/plain": [
              "False"
            ]
          },
          "execution_count": 79,
          "metadata": {},
          "output_type": "execute_result"
        }
      ],
      "source": [
        "not a"
      ]
    },
    {
      "cell_type": "code",
      "execution_count": null,
      "metadata": {
        "id": "tPMNKim9Oawf",
        "outputId": "de0018a3-4660-4de5-f9d6-883e195591b4",
        "colab": {
          "base_uri": "https://localhost:8080/"
        }
      },
      "outputs": [
        {
          "output_type": "stream",
          "name": "stdout",
          "text": [
            "2 > 1\t True\n",
            "2 > 2\t False\n",
            "2 >= 2\t True\n",
            "2 == 2\t True\n",
            "2 == 2.0 True\n",
            "2 != 1.9 True\n",
            "ho == bey False\n"
          ]
        }
      ],
      "source": [
        "print('2 > 1\\t', 2 > 1)\n",
        "print('2 > 2\\t', 2 > 2)\n",
        "print('2 >= 2\\t',2 >= 2)\n",
        "print('2 == 2\\t',2 == 2)\n",
        "print('2 == 2.0',2 == 2.0)\n",
        "print('2 != 1.9',2 != 1.9)\n",
        "print('ho == bey', 'hi' == 'bye')"
      ]
    },
    {
      "cell_type": "code",
      "execution_count": null,
      "metadata": {
        "id": "qfvN74AAOawg",
        "outputId": "43847c99-4b8f-42dc-dbea-e5ba170e587d"
      },
      "outputs": [
        {
          "name": "stdout",
          "output_type": "stream",
          "text": [
            "False\n",
            "True\n",
            "True\n"
          ]
        }
      ],
      "source": [
        "print(True and False)\n",
        "print(True or True)\n",
        "print(not False)"
      ]
    },
    {
      "cell_type": "markdown",
      "metadata": {
        "id": "tPZju7dtOawg"
      },
      "source": [
        "We can use None as a placeholder for an object that we don't want to reassign yet:"
      ]
    },
    {
      "cell_type": "code",
      "execution_count": null,
      "metadata": {
        "id": "90EAbNqsOawg",
        "outputId": "526d5a74-6771-4b07-a419-60f376709b2f",
        "colab": {
          "base_uri": "https://localhost:8080/"
        }
      },
      "outputs": [
        {
          "output_type": "stream",
          "name": "stdout",
          "text": [
            "None\n"
          ]
        }
      ],
      "source": [
        "# None placeholder\n",
        "b = None\n",
        "print (b)"
      ]
    },
    {
      "cell_type": "markdown",
      "metadata": {
        "id": "B1m5r55oOawg"
      },
      "source": [
        "### **Null values**\n",
        "\n",
        "- Sometimes we represent \"no data\" or \"not applicable\".  \n",
        "\n",
        "- In Python we use the special value `None`.\n",
        "\n",
        "- This corresponds to `Null` in Java or SQL."
      ]
    },
    {
      "cell_type": "code",
      "execution_count": null,
      "metadata": {
        "id": "-6agO33OOawh",
        "colab": {
          "base_uri": "https://localhost:8080/"
        },
        "outputId": "fb30dfdf-820a-4484-eb92-ae4feb960b48"
      },
      "outputs": [
        {
          "output_type": "stream",
          "name": "stdout",
          "text": [
            "None\n"
          ]
        }
      ],
      "source": [
        "# When we fetch the value `None` in the interactive interpreter, no result is printed out.\n",
        "\n",
        "result = None\n",
        "print(result)"
      ]
    },
    {
      "cell_type": "markdown",
      "metadata": {
        "id": "YAB4iAieOawh"
      },
      "source": [
        "- We can check whether there is a result or not using the `is` operator:"
      ]
    },
    {
      "cell_type": "code",
      "execution_count": null,
      "metadata": {
        "id": "Jv35F5SnOawh",
        "outputId": "33c8da4c-18a5-46cc-e02f-b85f19c25fe1",
        "colab": {
          "base_uri": "https://localhost:8080/"
        }
      },
      "outputs": [
        {
          "output_type": "execute_result",
          "data": {
            "text/plain": [
              "True"
            ]
          },
          "metadata": {},
          "execution_count": 10
        }
      ],
      "source": [
        "result is None"
      ]
    },
    {
      "cell_type": "code",
      "execution_count": null,
      "metadata": {
        "id": "uhTyoqXPOawh",
        "outputId": "9d0a32b9-df1b-4fcb-ee83-de5981b6ccd6"
      },
      "outputs": [
        {
          "data": {
            "text/plain": [
              "False"
            ]
          },
          "execution_count": 84,
          "metadata": {},
          "output_type": "execute_result"
        }
      ],
      "source": [
        "x = 5\n",
        "x is None"
      ]
    },
    {
      "cell_type": "markdown",
      "metadata": {
        "id": "JJ-X9NAjOawh"
      },
      "source": [
        "- Logic Operators"
      ]
    },
    {
      "cell_type": "code",
      "execution_count": null,
      "metadata": {
        "id": "7kaaIf6MOawi",
        "outputId": "94203985-0abd-4634-ae51-1889af121f86"
      },
      "outputs": [
        {
          "data": {
            "text/plain": [
              "False"
            ]
          },
          "execution_count": 86,
          "metadata": {},
          "output_type": "execute_result"
        }
      ],
      "source": [
        "(1 > 2) and (2 < 3)"
      ]
    },
    {
      "cell_type": "code",
      "execution_count": null,
      "metadata": {
        "id": "N1d6aR7cOawi",
        "outputId": "11e71348-536a-4686-f285-a03c89a86155"
      },
      "outputs": [
        {
          "data": {
            "text/plain": [
              "True"
            ]
          },
          "execution_count": 87,
          "metadata": {},
          "output_type": "execute_result"
        }
      ],
      "source": [
        "(1 > 2) or (2 < 3)"
      ]
    },
    {
      "cell_type": "code",
      "execution_count": null,
      "metadata": {
        "id": "rmF4XhpAOawi",
        "outputId": "3439cf76-acc3-4714-f449-0e2a5eef11e8"
      },
      "outputs": [
        {
          "data": {
            "text/plain": [
              "True"
            ]
          },
          "execution_count": 88,
          "metadata": {},
          "output_type": "execute_result"
        }
      ],
      "source": [
        "(1 == 2) or (2 == 3) or (4 == 4)"
      ]
    },
    {
      "cell_type": "markdown",
      "metadata": {
        "id": "O8mgsPphOawi"
      },
      "source": [
        "## **Lists**\n",
        "\n",
        "Lists are the base element for sequences of variables in python, they are themselves a variable type.\n",
        "* The syntax to write them is `[ ... , ... ]`\n",
        "* The types of the elements may not be all the same\n",
        "* The indices begin at $0$ (`l[0]` is the first element of `l`)\n",
        "* Lists can be nested (lists of lists of ...)\n",
        "* They are mutable, meaning the elements inside a list can be changed.\n",
        "\n",
        "*Warning:* Another type called *tuple* with the syntax `( ... , ... )` exists in Python. It has almost the same structure than list to the notable exceptions that one cannot add or remove elements from a tuple. We will see them briefly later"
      ]
    },
    {
      "cell_type": "code",
      "execution_count": null,
      "metadata": {
        "id": "P6gi4MRiOawi",
        "outputId": "622a584c-9c71-4db2-a9fb-01a1f990373c"
      },
      "outputs": [
        {
          "name": "stdout",
          "output_type": "stream",
          "text": [
            "[1, 2, 3, [4, 8], True, 2.3] <class 'list'>\n"
          ]
        }
      ],
      "source": [
        "# We just created a list of integers, but lists can actually hold different object types. For example:\n",
        "l = [1, 2, 3, [4,8] , True , 2.3]\n",
        "print(l, type(l))"
      ]
    },
    {
      "cell_type": "code",
      "execution_count": null,
      "metadata": {
        "id": "l7iJDyZ5Oawj",
        "outputId": "b974f4af-ab7c-4a0a-c624-1fc09f3e0d1f"
      },
      "outputs": [
        {
          "name": "stdout",
          "output_type": "stream",
          "text": [
            "1 <class 'int'>\n",
            "[4, 8] <class 'list'>\n",
            "8 <class 'int'>\n"
          ]
        }
      ],
      "source": [
        "print(l[0],type(l[0]))\n",
        "print(l[3],type(l[3]))\n",
        "print(l[3][1],type(l[3][1]))"
      ]
    },
    {
      "cell_type": "code",
      "execution_count": null,
      "metadata": {
        "id": "xhS_DdYeOawj",
        "outputId": "02672f44-817d-4ba4-de76-f941790148f3"
      },
      "outputs": [
        {
          "name": "stdout",
          "output_type": "stream",
          "text": [
            "[1, 2, 3, [4, 8], True, 2.3]\n",
            "[True, 2.3]\n",
            "[1, 2, 3, [4, 8], True]\n",
            "[True]\n",
            "[2, [4, 8], 2.3]\n",
            "[2.3, True, [4, 8], 3, 2, 1]\n",
            "2.3\n"
          ]
        }
      ],
      "source": [
        "print(l)\n",
        "print(l[4:]) # l[4:] is l from the position 4 (included)\n",
        "print(l[:5]) # l[:5] is l up to position 5 (excluded)\n",
        "print(l[4:5]) # l[4:5] is l between 4 (included) and 5 (excluded) so just 4\n",
        "print(l[1:6:2])  # l[1:6:2] is l between 1 (included) and 6 (excluded) by steps of 2 thus 1,3,5\n",
        "print(l[::-1]) # reversed order\n",
        "print(l[-1]) # last element"
      ]
    },
    {
      "cell_type": "markdown",
      "metadata": {
        "id": "V-uTY3CQOawj"
      },
      "source": [
        "### **Operations on lists**\n",
        "\n",
        "One can add, insert, remove, count, or test if a element is in a list easily"
      ]
    },
    {
      "cell_type": "code",
      "execution_count": null,
      "metadata": {
        "id": "voHC5ZofOawj",
        "outputId": "315a87cb-264b-4835-d89e-4a186232fc01"
      },
      "outputs": [
        {
          "name": "stdout",
          "output_type": "stream",
          "text": [
            "[1, 2, 3, [4, 8], True, 2.3, 10]\n"
          ]
        }
      ],
      "source": [
        "l.append(10)   # Add an element to l (the list is not copied, it is actually l that is modified)\n",
        "print(l)"
      ]
    },
    {
      "cell_type": "code",
      "execution_count": null,
      "metadata": {
        "id": "IPNx18sqOawk",
        "outputId": "e9f46a61-a7b0-4105-ed29-1483c219fff7"
      },
      "outputs": [
        {
          "name": "stdout",
          "output_type": "stream",
          "text": [
            "[1, 'u', 2, 3, [4, 8], True, 2.3, 10]\n"
          ]
        }
      ],
      "source": [
        "l.insert(1,'u')   # Insert an element at position 1 in l (the list is not copied, it is actually l that is modified)\n",
        "print(l)"
      ]
    },
    {
      "cell_type": "code",
      "execution_count": null,
      "metadata": {
        "id": "rUle-2-fOawk",
        "outputId": "7f034de0-532b-49bd-87f9-682fefb00ea6"
      },
      "outputs": [
        {
          "name": "stdout",
          "output_type": "stream",
          "text": [
            "[1, 'u', 2, 3, [4, 8], True, 2.3]\n"
          ]
        }
      ],
      "source": [
        "l.remove(10) # Remove the first element 10 of l\n",
        "print(l)"
      ]
    },
    {
      "cell_type": "code",
      "execution_count": null,
      "metadata": {
        "id": "k01uwA4HOawk",
        "outputId": "11bed921-606c-4359-e566-c3a993f8684f"
      },
      "outputs": [
        {
          "name": "stdout",
          "output_type": "stream",
          "text": [
            "7\n",
            "True\n"
          ]
        }
      ],
      "source": [
        "print(len(l)) # length of a list\n",
        "print(2 in l)  # test if 2 is in l"
      ]
    },
    {
      "cell_type": "markdown",
      "metadata": {
        "id": "elHxtWmJOawk"
      },
      "source": [
        "### **Handling lists**\n",
        "\n",
        "Lists are *pointer*-like types. Meaning that if you write `l2=l`, you *do not copy* `l` to `l2` but rather copy the pointer so modifying one, will modify the other.\n",
        "\n",
        "The proper way to copy list is to use the dedicated `copy` method for list variables."
      ]
    },
    {
      "cell_type": "code",
      "execution_count": null,
      "metadata": {
        "id": "T2mrtfMNOawk",
        "outputId": "c325022f-1d4d-418d-fb13-c5d6aea0b966"
      },
      "outputs": [
        {
          "name": "stdout",
          "output_type": "stream",
          "text": [
            "['u', 2, 3, [4, 8], True, 2.3, 'Something'] ['u', 2, 3, [4, 8], True, 2.3, 'Something']\n"
          ]
        }
      ],
      "source": [
        "l2 = l\n",
        "l.append('Something')\n",
        "print(l,l2)"
      ]
    },
    {
      "cell_type": "markdown",
      "metadata": {
        "id": "GJ0Yu0YjOawl"
      },
      "source": [
        "Use **pop** to \"pop off\" an item from the list. By default pop takes off the last index, but you can also specify which index to pop off. Let's see an example:"
      ]
    },
    {
      "cell_type": "code",
      "execution_count": null,
      "metadata": {
        "id": "tMbzL6_COawl",
        "outputId": "f03117ca-5b28-489b-9235-917549c3b09f"
      },
      "outputs": [
        {
          "data": {
            "text/plain": [
              "'u'"
            ]
          },
          "execution_count": 73,
          "metadata": {},
          "output_type": "execute_result"
        }
      ],
      "source": [
        "# Pop off the 0 indexed item\n",
        "l.pop(0)"
      ]
    },
    {
      "cell_type": "code",
      "execution_count": null,
      "metadata": {
        "id": "B2zxepc7Oawl",
        "outputId": "af02d664-c20e-424d-c397-350338e9674f"
      },
      "outputs": [
        {
          "data": {
            "text/plain": [
              "[2, 3, [4, 8], True, 2.3, 'Something']"
            ]
          },
          "execution_count": 74,
          "metadata": {},
          "output_type": "execute_result"
        }
      ],
      "source": [
        "# show\n",
        "l"
      ]
    },
    {
      "cell_type": "code",
      "execution_count": null,
      "metadata": {
        "id": "8-IDDN8OOawl"
      },
      "outputs": [],
      "source": [
        "# Assign the popped element. The default popped index is -1\n",
        "popped_item = l.pop()"
      ]
    },
    {
      "cell_type": "code",
      "execution_count": null,
      "metadata": {
        "id": "wSSR6i3SOawl",
        "outputId": "6b0a7fd9-3fbb-4bd8-9970-f1c82e7b66a6"
      },
      "outputs": [
        {
          "data": {
            "text/plain": [
              "'Something'"
            ]
          },
          "execution_count": 76,
          "metadata": {},
          "output_type": "execute_result"
        }
      ],
      "source": [
        "popped_item"
      ]
    },
    {
      "cell_type": "code",
      "execution_count": null,
      "metadata": {
        "id": "-9E2wrMbOawo",
        "outputId": "f1e82a28-532a-4005-d95e-db2685d18785"
      },
      "outputs": [
        {
          "data": {
            "text/plain": [
              "[2, 3, [4, 8], True, 2.3]"
            ]
          },
          "execution_count": 77,
          "metadata": {},
          "output_type": "execute_result"
        }
      ],
      "source": [
        "# Show remaining list\n",
        "l"
      ]
    },
    {
      "cell_type": "code",
      "execution_count": null,
      "metadata": {
        "id": "XsdncnalOawp",
        "outputId": "ede40054-f7f2-4bb8-c99f-3b1b6077f90f"
      },
      "outputs": [
        {
          "name": "stdout",
          "output_type": "stream",
          "text": [
            "[1, 'u', 2, 3, [4, 8], True, 2.3] [1, 'u', 2, 3, [4, 8], True, 2.3, 'Something']\n"
          ]
        }
      ],
      "source": [
        "#l3 = list(l) #\n",
        "l3= l.copy()\n",
        "l.remove('Something')\n",
        "print(l,l3)"
      ]
    },
    {
      "cell_type": "markdown",
      "metadata": {
        "id": "RqqckLVjOawp"
      },
      "source": [
        "You can have void lists and concatenate list by simply using the + operator, or even repeat them with * ."
      ]
    },
    {
      "cell_type": "code",
      "execution_count": null,
      "metadata": {
        "id": "we8on8dXOawp",
        "outputId": "f5d46017-6165-48a5-856a-56b095a944da"
      },
      "outputs": [
        {
          "name": "stdout",
          "output_type": "stream",
          "text": [
            "[1, 'u', 2, 3, [4, 8], True, 2.3, 4, 8, 10.9865]\n",
            "[4, 8, 10.9865, 4, 8, 10.9865, 4, 8, 10.9865]\n"
          ]
        }
      ],
      "source": [
        "l4 = []\n",
        "l5 =[4,8,10.9865]\n",
        "print(l+l4+l5)\n",
        "print(l5*3)"
      ]
    },
    {
      "cell_type": "markdown",
      "metadata": {
        "id": "zJDqooa6Oawp"
      },
      "source": [
        "#### **Indexing and Slicing**"
      ]
    },
    {
      "cell_type": "code",
      "execution_count": null,
      "metadata": {
        "id": "6vf_jVpVOawq",
        "outputId": "298bac92-6e8f-45f7-c5a7-60f4973f9c34"
      },
      "outputs": [
        {
          "data": {
            "text/plain": [
              "'one'"
            ]
          },
          "execution_count": 65,
          "metadata": {},
          "output_type": "execute_result"
        }
      ],
      "source": [
        "my_list = ['one','two','three',4,5]\n",
        "# Grab element at index 0\n",
        "my_list[0]\n"
      ]
    },
    {
      "cell_type": "markdown",
      "metadata": {
        "id": "Yb_pbqxbOawq"
      },
      "source": [
        "We can also use + to concatenate lists, just like we did for strings."
      ]
    },
    {
      "cell_type": "code",
      "execution_count": null,
      "metadata": {
        "id": "v-yHBAheOawq",
        "outputId": "22b89194-012a-4f2d-f60c-2c2d8fea66eb"
      },
      "outputs": [
        {
          "data": {
            "text/plain": [
              "['one', 'two', 'three', 4, 5, 'new item']"
            ]
          },
          "execution_count": 66,
          "metadata": {},
          "output_type": "execute_result"
        }
      ],
      "source": [
        "my_list + ['new item']"
      ]
    },
    {
      "cell_type": "markdown",
      "metadata": {
        "id": "YiBLQV_GOawq"
      },
      "source": [
        "Note: This doesn't actually change the original list!"
      ]
    },
    {
      "cell_type": "code",
      "execution_count": null,
      "metadata": {
        "id": "1nXNDzgUOawr",
        "outputId": "89d0bc69-1ba7-4b77-adc4-2650ec5b4a0d"
      },
      "outputs": [
        {
          "data": {
            "text/plain": [
              "['one', 'two', 'three', 4, 5]"
            ]
          },
          "execution_count": 67,
          "metadata": {},
          "output_type": "execute_result"
        }
      ],
      "source": [
        "my_list"
      ]
    },
    {
      "cell_type": "markdown",
      "metadata": {
        "id": "iIJ7deDAOawr"
      },
      "source": [
        "You would have to reassign the list to make the change permanent."
      ]
    },
    {
      "cell_type": "code",
      "execution_count": null,
      "metadata": {
        "id": "-d2aJC3oOawr"
      },
      "outputs": [],
      "source": [
        "# Reassign\n",
        "my_list = my_list + ['add new item permanently']"
      ]
    },
    {
      "cell_type": "markdown",
      "metadata": {
        "id": "jh0CM7-eOawr"
      },
      "source": [
        "We can also use the * for a duplication method similar to strings:"
      ]
    },
    {
      "cell_type": "code",
      "execution_count": null,
      "metadata": {
        "id": "MlskB9PDOawr"
      },
      "outputs": [],
      "source": [
        "# Make the list double\n",
        "print(my_list * 2)"
      ]
    },
    {
      "cell_type": "markdown",
      "metadata": {
        "id": "kz8oiJiJOawr"
      },
      "source": [
        "## **Tuples, Dictionaries [*] Sets**\n",
        "\n",
        "### **Tuples**\n",
        "* **Tuples** are similar to list but are created with `(...,...)` or simply comas. They cannot be changed once created.\n",
        "\n",
        "\n",
        "* What is the major difference between tuples and lists?\n",
        "\n",
        "    **Tuples are immutable!**"
      ]
    },
    {
      "cell_type": "code",
      "execution_count": null,
      "metadata": {
        "id": "El7W7hkWOawr",
        "outputId": "bf76e904-4fba-48c4-9865-6793f355fb68"
      },
      "outputs": [
        {
          "name": "stdout",
          "output_type": "stream",
          "text": [
            "(1, 'b', 876876.908) <class 'tuple'>\n",
            "1\n"
          ]
        }
      ],
      "source": [
        "t = (1,'b',876876.908)\n",
        "print(t,type(t))\n",
        "print(t[0])"
      ]
    },
    {
      "cell_type": "code",
      "execution_count": null,
      "metadata": {
        "id": "kLVsFEG0Oaws",
        "outputId": "03c4fd6e-dd13-4048-ffc6-7db0bb05fa3d",
        "colab": {
          "base_uri": "https://localhost:8080/"
        }
      },
      "outputs": [
        {
          "output_type": "stream",
          "name": "stdout",
          "text": [
            "12 [987, 98987] (12, [987, 98987])\n"
          ]
        }
      ],
      "source": [
        "a,b = 12,[987,98987]\n",
        "u = a,b\n",
        "print(a,b,u)"
      ]
    },
    {
      "cell_type": "code",
      "execution_count": null,
      "metadata": {
        "id": "d-tL4ZipOaws",
        "outputId": "6b1a3e14-78f5-4931-da3b-f61e7f7bf617",
        "colab": {
          "base_uri": "https://localhost:8080/"
        }
      },
      "outputs": [
        {
          "output_type": "stream",
          "name": "stdout",
          "text": [
            "'tuple' object does not support item assignment\n"
          ]
        }
      ],
      "source": [
        "try:\n",
        "    u[1] = 2\n",
        "except Exception as error:\n",
        "    print(error)"
      ]
    },
    {
      "cell_type": "markdown",
      "metadata": {
        "id": "Ub7MCPIxOaws"
      },
      "source": [
        "### **Dictionaries**\n",
        "- **Dictionaries** are aimed at storing values of the form *key-value* with the syntax `{key1 : value1, ...}`\n",
        "\n",
        "This type is often used as a return type in librairies."
      ]
    },
    {
      "cell_type": "code",
      "execution_count": null,
      "metadata": {
        "id": "hO9JE5P6Oaws",
        "outputId": "33675485-fbee-4f36-c46c-e3f5452db0c8"
      },
      "outputs": [
        {
          "name": "stdout",
          "output_type": "stream",
          "text": [
            "{'param1': 1.0, 'param2': True, 'param3': 'red'} <class 'dict'>\n"
          ]
        }
      ],
      "source": [
        "d = {\"param1\" : 1.0, \"param2\" : True, \"param3\" : \"red\"}\n",
        "print(d,type(d))"
      ]
    },
    {
      "cell_type": "code",
      "execution_count": null,
      "metadata": {
        "id": "RAVq667BOaws",
        "outputId": "2d43cc01-b0bf-4979-e6c9-0c69640e961f"
      },
      "outputs": [
        {
          "name": "stdout",
          "output_type": "stream",
          "text": [
            "1.0\n",
            "{'param1': 2.4, 'param2': True, 'param3': 'red'}\n"
          ]
        }
      ],
      "source": [
        "print(d[\"param1\"])\n",
        "d[\"param1\"] = 2.4\n",
        "print(d)"
      ]
    },
    {
      "cell_type": "code",
      "execution_count": null,
      "metadata": {
        "id": "q7tcNbdxOaws",
        "outputId": "73b15e97-91ec-420c-9634-3d16827b073a",
        "colab": {
          "base_uri": "https://localhost:8080/",
          "height": 35
        }
      },
      "outputs": [
        {
          "output_type": "execute_result",
          "data": {
            "text/plain": [
              "'hello all'"
            ],
            "application/vnd.google.colaboratory.intrinsic+json": {
              "type": "string"
            }
          },
          "metadata": {},
          "execution_count": 29
        }
      ],
      "source": [
        "c = {'x1':{'x2':'hello all'}}\n",
        "c['x1']['x2']\n"
      ]
    },
    {
      "cell_type": "code",
      "execution_count": null,
      "metadata": {
        "id": "XMa-NUvOOaws",
        "outputId": "5970ba1e-1614-45e9-8e9c-8a48a9e36d85",
        "colab": {
          "base_uri": "https://localhost:8080/",
          "height": 35
        }
      },
      "outputs": [
        {
          "output_type": "execute_result",
          "data": {
            "text/plain": [
              "'this is deep'"
            ],
            "application/vnd.google.colaboratory.intrinsic+json": {
              "type": "string"
            }
          },
          "metadata": {},
          "execution_count": 32
        }
      ],
      "source": [
        "# Getting a little tricker\n",
        "c = {'x1':[{'nest_key':['this is deep',['hello all']]}]}\n",
        "# This was harder than I expected...\n",
        "c['x1'][0]['nest_key'][0]\n"
      ]
    },
    {
      "cell_type": "code",
      "execution_count": null,
      "metadata": {
        "id": "OWq0Ks3HOawt",
        "outputId": "385a549b-c9a7-4f2d-9cef-c53759c83aec"
      },
      "outputs": [
        {
          "data": {
            "text/plain": [
              "'hello all'"
            ]
          },
          "execution_count": 99,
          "metadata": {},
          "output_type": "execute_result"
        }
      ],
      "source": [
        "# This will be hard and annoying!\n",
        "c = {'x1':[1,2,{'x2':['this is tricky',{'next_key':[1,2,['hello all']]}]}]}\n",
        "# and.....\n",
        "c['x1'][2]['x2'][1]['next_key'][2][0]"
      ]
    },
    {
      "cell_type": "markdown",
      "metadata": {
        "id": "kMJhSCh0Oawt"
      },
      "source": [
        "**BOOOOOO**\n",
        "\n",
        "Can you sort a dictionary? Why or why not?\n",
        "\n",
        "*****\n",
        "*****\n",
        "*****\n",
        "*****\n",
        "\n",
        "**Answer: No! Because normal dictionaries are *mappings* not a sequence.**"
      ]
    },
    {
      "cell_type": "markdown",
      "metadata": {
        "id": "SlvfeGsTOawt"
      },
      "source": [
        "### **Sets**\n",
        "\n",
        "**Sets don't allow for duplicate items!**\n",
        "\n",
        "- make unique to list"
      ]
    },
    {
      "cell_type": "code",
      "execution_count": null,
      "metadata": {
        "id": "mAE53QaeOawt",
        "outputId": "6ff8738b-2df9-4028-d0d1-328039126765"
      },
      "outputs": [
        {
          "data": {
            "text/plain": [
              "{1, 2, 3, 4, 11, 22, 33}"
            ]
          },
          "execution_count": 14,
          "metadata": {},
          "output_type": "execute_result"
        }
      ],
      "source": [
        "l = [1,2,2,33,4,4,11,22,3,3,2]\n",
        "set(l)"
      ]
    },
    {
      "cell_type": "markdown",
      "metadata": {
        "id": "giDACBzQOawt"
      },
      "source": [
        "## **Strings and text formatting**\n",
        "\n",
        "\n",
        "* Strings are delimited with (double) quotes. They can be handled globally the same way as lists (see above).\n",
        "* <tt>print</tt> displays (tuples of) variables (not necessarily strings).\n",
        "* To include variable into string, it is preferable to use the <tt>format</tt> method.\n",
        "\n"
      ]
    },
    {
      "cell_type": "code",
      "execution_count": null,
      "metadata": {
        "id": "7FbCtct0Oawt",
        "outputId": "e8e6c069-2dca-466f-9825-64df73912201"
      },
      "outputs": [
        {
          "name": "stdout",
          "output_type": "stream",
          "text": [
            "Hello World 1\n",
            "Hello World 2\n",
            "Use \n",
            " to print a new line\n",
            "\n",
            "\n",
            "See what I mean?\n"
          ]
        }
      ],
      "source": [
        "print('Hello World 1')\n",
        "print('Hello World 2')\n",
        "print('Use \\n to print a new line')\n",
        "print('\\n')\n",
        "print('See what I mean?')\n"
      ]
    },
    {
      "cell_type": "markdown",
      "metadata": {
        "id": "IKO7KamFOawt"
      },
      "source": [
        "* We can also use a function called **len()** to check the length of a string!"
      ]
    },
    {
      "cell_type": "code",
      "execution_count": null,
      "metadata": {
        "id": "7k67vRjeOawu",
        "outputId": "421a6e9c-9ff4-4872-b405-4de982b989c9"
      },
      "outputs": [
        {
          "data": {
            "text/plain": [
              "11"
            ]
          },
          "execution_count": 40,
          "metadata": {},
          "output_type": "execute_result"
        }
      ],
      "source": [
        "len('Hello World')"
      ]
    },
    {
      "cell_type": "code",
      "execution_count": null,
      "metadata": {
        "id": "GqYoUAvuOawu",
        "outputId": "f81b52ac-a69f-4b8e-e2b8-48a8f79f10ab",
        "colab": {
          "base_uri": "https://localhost:8080/"
        }
      },
      "outputs": [
        {
          "output_type": "stream",
          "name": "stdout",
          "text": [
            "test <class 'str'>\n"
          ]
        }
      ],
      "source": [
        "s = \"test\"\n",
        "print(s,type(s))"
      ]
    },
    {
      "cell_type": "markdown",
      "metadata": {
        "id": "fIFePk2dOawu"
      },
      "source": [
        "### **String Indexing**\n",
        "We know strings are a sequence, which means Python can use indexes to call parts of the sequence.\n",
        "\n",
        "In Python, we use brackets [] after an object to call its index. We should also note that indexing starts at 0 for Python. Let's create a new object called s and the walk through a few examples of indexing."
      ]
    },
    {
      "cell_type": "code",
      "execution_count": null,
      "metadata": {
        "id": "DQfMmov1Oawu",
        "outputId": "0e25b41c-7838-4c79-cba9-b5474328709c"
      },
      "outputs": [
        {
          "name": "stdout",
          "output_type": "stream",
          "text": [
            "t\n",
            "test42\n"
          ]
        }
      ],
      "source": [
        "print(s[0]) # Show first element (in this case a letter)\n",
        "print(s + \"42\")"
      ]
    },
    {
      "cell_type": "code",
      "execution_count": null,
      "metadata": {
        "id": "gZJWvg8TOawu",
        "outputId": "973f9319-09b1-431c-8806-01efa5552d26"
      },
      "outputs": [
        {
          "name": "stdout",
          "output_type": "stream",
          "text": [
            "test 42\n",
            "test42\n"
          ]
        }
      ],
      "source": [
        "print(s,42)\n",
        "print(s+\"42\")"
      ]
    },
    {
      "cell_type": "markdown",
      "metadata": {
        "id": "mu7tusIhOawu"
      },
      "source": [
        "We can use a : to perform *slicing* which grabs everything up to a designated point. For example:"
      ]
    },
    {
      "cell_type": "code",
      "execution_count": null,
      "metadata": {
        "id": "eiESfKVgOawu",
        "outputId": "0dd02072-6ca3-4e70-dc87-10c70b7d5641"
      },
      "outputs": [
        {
          "data": {
            "text/plain": [
              "'est'"
            ]
          },
          "execution_count": 42,
          "metadata": {},
          "output_type": "execute_result"
        }
      ],
      "source": [
        "# Grab everything past the first term all the way to the length of s which is len(s)\n",
        "s[1:]"
      ]
    },
    {
      "cell_type": "code",
      "execution_count": null,
      "metadata": {
        "id": "SSuwZWZvOawu",
        "outputId": "fa55041d-71e0-47cd-c701-03751d9455b1"
      },
      "outputs": [
        {
          "data": {
            "text/plain": [
              "'test'"
            ]
          },
          "execution_count": 43,
          "metadata": {},
          "output_type": "execute_result"
        }
      ],
      "source": [
        "# Note that there is no change to the original s\n",
        "s"
      ]
    },
    {
      "cell_type": "code",
      "execution_count": null,
      "metadata": {
        "id": "wHsAajQKOawv",
        "outputId": "8b157fae-329e-4998-e07a-9951b42f7723"
      },
      "outputs": [
        {
          "data": {
            "text/plain": [
              "'tes'"
            ]
          },
          "execution_count": 44,
          "metadata": {},
          "output_type": "execute_result"
        }
      ],
      "source": [
        "# Grab everything UP TO the 3rd index\n",
        "s[:3]"
      ]
    },
    {
      "cell_type": "markdown",
      "metadata": {
        "id": "b9JoyM_BOawv"
      },
      "source": [
        "Note the above slicing. Here we're telling Python to grab everything from 0 up to 3. It doesn't include the 3rd index. You'll notice this a lot in Python, where statements and are usually in the context of \"up to, but not including\"."
      ]
    },
    {
      "cell_type": "code",
      "execution_count": null,
      "metadata": {
        "id": "b-VtnH-IOawv",
        "outputId": "e1519a0a-846c-4b38-d323-8e6db1143528"
      },
      "outputs": [
        {
          "data": {
            "text/plain": [
              "'test'"
            ]
          },
          "execution_count": 45,
          "metadata": {},
          "output_type": "execute_result"
        }
      ],
      "source": [
        "#Everything\n",
        "s[:]"
      ]
    },
    {
      "cell_type": "markdown",
      "metadata": {
        "id": "_Yc_l5bFOawv"
      },
      "source": [
        "We can also use negative indexing to go backwards."
      ]
    },
    {
      "cell_type": "code",
      "execution_count": null,
      "metadata": {
        "id": "5GxE-9NaOawv",
        "outputId": "4baac2c8-1d64-4a73-fd38-fd3db2b9f26f"
      },
      "outputs": [
        {
          "data": {
            "text/plain": [
              "'t'"
            ]
          },
          "execution_count": 46,
          "metadata": {},
          "output_type": "execute_result"
        }
      ],
      "source": [
        "# Last letter (one index behind 0 so it loops back around)\n",
        "s[-1]"
      ]
    },
    {
      "cell_type": "code",
      "execution_count": null,
      "metadata": {
        "id": "wOrBy18WOawv",
        "outputId": "431b0a80-9203-41fa-ecad-be7c9a917aaf"
      },
      "outputs": [
        {
          "data": {
            "text/plain": [
              "'tes'"
            ]
          },
          "execution_count": 47,
          "metadata": {},
          "output_type": "execute_result"
        }
      ],
      "source": [
        "# Grab everything but the last letter\n",
        "s[:-1]"
      ]
    },
    {
      "cell_type": "markdown",
      "metadata": {
        "id": "_ifVegUcOaww"
      },
      "source": [
        "We can also use index and slice notation to grab elements of a sequence by a specified step size (the default is 1). For instance we can use two colons in a row and then a number specifying the frequency to grab elements. For example:"
      ]
    },
    {
      "cell_type": "code",
      "execution_count": null,
      "metadata": {
        "id": "Syy9h8BlOaww",
        "outputId": "166c27ac-7084-45b9-b0d6-cb2d4d8195a8"
      },
      "outputs": [
        {
          "data": {
            "text/plain": [
              "'test'"
            ]
          },
          "execution_count": 49,
          "metadata": {},
          "output_type": "execute_result"
        }
      ],
      "source": [
        "# Grab everything, but go in steps size of 1\n",
        "s[::1]"
      ]
    },
    {
      "cell_type": "code",
      "execution_count": null,
      "metadata": {
        "id": "UNAUtrYZOaww",
        "outputId": "ca82bf27-93a2-44cc-9fb7-fcc4e7c0ed25"
      },
      "outputs": [
        {
          "data": {
            "text/plain": [
              "'ts'"
            ]
          },
          "execution_count": 50,
          "metadata": {},
          "output_type": "execute_result"
        }
      ],
      "source": [
        "# Grab everything, but go in step sizes of 2\n",
        "s[::2]"
      ]
    },
    {
      "cell_type": "code",
      "execution_count": null,
      "metadata": {
        "id": "1XOjlJMwOaww",
        "outputId": "27d66e3a-c9d8-4e89-9847-cd981585dfc3"
      },
      "outputs": [
        {
          "data": {
            "text/plain": [
              "'tset'"
            ]
          },
          "execution_count": 51,
          "metadata": {},
          "output_type": "execute_result"
        }
      ],
      "source": [
        "# We can use this to print a string backwards\n",
        "s[::-1]"
      ]
    },
    {
      "cell_type": "markdown",
      "metadata": {
        "id": "MFhH-k-ZOaww"
      },
      "source": [
        "#### **String Properties**\n",
        "Its important to note that strings have an important property known as immutability. This means that once a string is created, the elements within it can not be changed or replaced. For example:"
      ]
    },
    {
      "cell_type": "code",
      "execution_count": null,
      "metadata": {
        "id": "3zS27axNOaww",
        "outputId": "2a356350-09b4-4ec5-fa59-df90f0fefa98"
      },
      "outputs": [
        {
          "ename": "TypeError",
          "evalue": "'str' object does not support item assignment",
          "output_type": "error",
          "traceback": [
            "\u001b[0;31m---------------------------------------------------------------------------\u001b[0m",
            "\u001b[0;31mTypeError\u001b[0m                                 Traceback (most recent call last)",
            "\u001b[0;32m<ipython-input-55-976942677f11>\u001b[0m in \u001b[0;36m<module>\u001b[0;34m\u001b[0m\n\u001b[1;32m      1\u001b[0m \u001b[0;31m# Let's try to change the first letter to 'x'\u001b[0m\u001b[0;34m\u001b[0m\u001b[0;34m\u001b[0m\u001b[0;34m\u001b[0m\u001b[0m\n\u001b[0;32m----> 2\u001b[0;31m \u001b[0ms\u001b[0m\u001b[0;34m[\u001b[0m\u001b[0;36m0\u001b[0m\u001b[0;34m]\u001b[0m \u001b[0;34m=\u001b[0m \u001b[0;34m'x'\u001b[0m\u001b[0;34m\u001b[0m\u001b[0;34m\u001b[0m\u001b[0m\n\u001b[0m",
            "\u001b[0;31mTypeError\u001b[0m: 'str' object does not support item assignment"
          ]
        }
      ],
      "source": [
        "# Let's try to change the first letter to 'x'\n",
        "s[0] = 'x'"
      ]
    },
    {
      "cell_type": "code",
      "execution_count": null,
      "metadata": {
        "id": "vTxSR43pOaww"
      },
      "outputs": [],
      "source": [
        "# We can reassign s completely though!\n",
        "s = s + ' concatenate me!'"
      ]
    },
    {
      "cell_type": "markdown",
      "metadata": {
        "id": "WtdcbUuLOawx"
      },
      "source": [
        "We can use the multiplication symbol to create repetition!"
      ]
    },
    {
      "cell_type": "code",
      "execution_count": null,
      "metadata": {
        "id": "2dVzGOeeOawx",
        "outputId": "0806b5a5-c605-4b6b-b01e-537c5289195f"
      },
      "outputs": [
        {
          "data": {
            "text/plain": [
              "'zzzzzzzzzz'"
            ]
          },
          "execution_count": 58,
          "metadata": {},
          "output_type": "execute_result"
        }
      ],
      "source": [
        "letter = 'z'\n",
        "letter*10"
      ]
    },
    {
      "cell_type": "markdown",
      "metadata": {
        "id": "vlC2vnJGOawx"
      },
      "source": [
        "### **Print Formatting**\n",
        "\n",
        "We can use the .format() method to add formatted objects to printed string statements.\n",
        "\n",
        "The easiest way to show this is through an example:"
      ]
    },
    {
      "cell_type": "code",
      "execution_count": null,
      "metadata": {
        "id": "rvzFJuBlOawx",
        "outputId": "966f83e4-9f81-44b0-c5d1-a7e9b4937ad5",
        "colab": {
          "base_uri": "https://localhost:8080/"
        }
      },
      "outputs": [
        {
          "output_type": "stream",
          "name": "stdout",
          "text": [
            "s+42\n"
          ]
        }
      ],
      "source": [
        "\n",
        "\n"
      ]
    },
    {
      "cell_type": "markdown",
      "metadata": {
        "id": "g4GEAplhOawx"
      },
      "source": [
        "The `format` method"
      ]
    },
    {
      "cell_type": "code",
      "execution_count": null,
      "metadata": {
        "id": "RlAhzMOOOawx",
        "outputId": "825ec408-2f3d-4178-a356-93dfe593303e"
      },
      "outputs": [
        {
          "name": "stdout",
          "output_type": "stream",
          "text": [
            "test 42\n"
          ]
        }
      ],
      "source": [
        "print( \"test {}\".format(42) )"
      ]
    },
    {
      "cell_type": "code",
      "execution_count": null,
      "metadata": {
        "id": "C2WPfQ8tOawy",
        "outputId": "149b148e-bfd3-45ad-915e-da7f17b5eea1"
      },
      "outputs": [
        {
          "name": "stdout",
          "output_type": "stream",
          "text": [
            "test with an int 4, a float 3.141 (or 3.141000e+00 which is roughly 3.1)\n"
          ]
        }
      ],
      "source": [
        "print( \"test with an int {:d}, a float {} (or {:e} which is roughly {:.1f})\".format(4 , 3.141 , 3.141 , 3.141 ))"
      ]
    },
    {
      "cell_type": "markdown",
      "metadata": {
        "id": "jdRb0g-_Oawy"
      },
      "source": [
        "### **Basic Built-in String methods**\n",
        "\n",
        "Objects in Python usually have built-in methods. These methods are functions inside the object (we will learn about these in much more depth later) that can perform actions or commands on the object itself.\n",
        "\n",
        "We call methods with a period and then the method name. Methods are in the form:\n",
        "\n",
        "**object.method(parameters)**\n",
        "\n",
        "Here are some examples of built-in methods in strings:"
      ]
    },
    {
      "cell_type": "code",
      "execution_count": null,
      "metadata": {
        "id": "reGyW3MIOawy",
        "outputId": "7f6fc20f-b82a-4ce9-f3ce-c13a68309702"
      },
      "outputs": [
        {
          "data": {
            "text/plain": [
              "'Hello World concatenate me!'"
            ]
          },
          "execution_count": 60,
          "metadata": {},
          "output_type": "execute_result"
        }
      ],
      "source": [
        "# Assign s as a string\n",
        "s = 'Hello World'\n",
        "# We can reassign s completely though!\n",
        "s = s + ' concatenate me!'\n",
        "s"
      ]
    },
    {
      "cell_type": "code",
      "execution_count": null,
      "metadata": {
        "id": "OeiMrOJZOawy",
        "outputId": "5787bb9d-4315-4be8-e344-d43ce4d3cd6a"
      },
      "outputs": [
        {
          "data": {
            "text/plain": [
              "'HELLO WORLD CONCATENATE ME!'"
            ]
          },
          "execution_count": 61,
          "metadata": {},
          "output_type": "execute_result"
        }
      ],
      "source": [
        "# Upper Case a string\n",
        "s.upper()"
      ]
    },
    {
      "cell_type": "code",
      "execution_count": null,
      "metadata": {
        "id": "XmEil6fVOawy",
        "outputId": "f9253f53-95af-4de2-b520-eca00e73125d"
      },
      "outputs": [
        {
          "data": {
            "text/plain": [
              "'hello world concatenate me!'"
            ]
          },
          "execution_count": 62,
          "metadata": {},
          "output_type": "execute_result"
        }
      ],
      "source": [
        "# Lower case\n",
        "s.lower()"
      ]
    },
    {
      "cell_type": "code",
      "execution_count": null,
      "metadata": {
        "id": "fHml06UIOawy",
        "outputId": "71960fe0-abc7-44e4-923e-13a87b643e45"
      },
      "outputs": [
        {
          "data": {
            "text/plain": [
              "['Hello', 'World', 'concatenate', 'me!']"
            ]
          },
          "execution_count": 63,
          "metadata": {},
          "output_type": "execute_result"
        }
      ],
      "source": [
        "# Split a string by blank space (this is the default)\n",
        "s.split()"
      ]
    },
    {
      "cell_type": "code",
      "execution_count": null,
      "metadata": {
        "id": "GAKjo0abOawy",
        "outputId": "67e91bff-9df0-4465-d3eb-707be9cf63e9"
      },
      "outputs": [
        {
          "data": {
            "text/plain": [
              "['Hello ', 'orld concatenate me!']"
            ]
          },
          "execution_count": 64,
          "metadata": {},
          "output_type": "execute_result"
        }
      ],
      "source": [
        "# Split by a specific element (doesn't include the element that was split on)\n",
        "s.split('W')"
      ]
    },
    {
      "cell_type": "markdown",
      "metadata": {
        "id": "Mpf6gV8XOawz"
      },
      "source": [
        "# **2- Branching and Loops**\n",
        "\n",
        "\n",
        "## **If, Elif, Else**\n",
        "\n",
        "In Python, the formulation for branching is the  `if:` condition (mind the `:`) followed by an indentation of *one tab* that represents what is executed if the condition is true. **The indentation is primordial and at the core of Python.**  \n",
        "\n"
      ]
    },
    {
      "cell_type": "code",
      "execution_count": null,
      "metadata": {
        "id": "PBM8p9uiOawz",
        "outputId": "a2b0a287-35ad-4e30-d44f-b664c4684a04"
      },
      "outputs": [
        {
          "name": "stdout",
          "output_type": "stream",
          "text": [
            "statement1 and statement2 are False\n"
          ]
        }
      ],
      "source": [
        "statement1 = False\n",
        "statement2 = False\n",
        "\n",
        "if statement1:\n",
        "    print(\"statement1 is True\")\n",
        "elif statement2:\n",
        "    print(\"statement2 is True\")\n",
        "else:\n",
        "    print(\"statement1 and statement2 are False\")"
      ]
    },
    {
      "cell_type": "code",
      "execution_count": null,
      "metadata": {
        "id": "In9W7JmIOawz",
        "outputId": "8428f8ac-17d2-42c5-c1fa-65fde6dac72a"
      },
      "outputs": [
        {
          "name": "stdout",
          "output_type": "stream",
          "text": [
            "both statement1 and statement2 are True\n"
          ]
        }
      ],
      "source": [
        "statement1 = statement2 = True\n",
        "\n",
        "if statement1:\n",
        "    if statement2:\n",
        "        print(\"both statement1 and statement2 are True\")"
      ]
    },
    {
      "cell_type": "code",
      "execution_count": null,
      "metadata": {
        "id": "0w3acyYDOawz",
        "outputId": "4cbdd57a-44be-42b0-e4e9-a20423af37d2"
      },
      "outputs": [
        {
          "name": "stdout",
          "output_type": "stream",
          "text": [
            "here it is ok\n",
            "after the previous line, here also\n"
          ]
        }
      ],
      "source": [
        "if statement1:\n",
        "    if statement2: # Bad indentation!\n",
        "    #print(\"both statement1 and statement2 are True\") # Uncommenting Would cause an error\n",
        "        print(\"here it is ok\")\n",
        "    print(\"after the previous line, here also\")"
      ]
    },
    {
      "cell_type": "code",
      "execution_count": null,
      "metadata": {
        "id": "3t3DlA8mOawz",
        "outputId": "559adbe9-dc8a-449e-d382-8c163eddddd4"
      },
      "outputs": [
        {
          "name": "stdout",
          "output_type": "stream",
          "text": [
            "printed if statement1 is True\n",
            "still inside the if block\n"
          ]
        }
      ],
      "source": [
        "statement1 = True\n",
        "\n",
        "if statement1:\n",
        "    print(\"printed if statement1 is True\")\n",
        "\n",
        "\n",
        "\n",
        "    print(\"still inside the if block\")"
      ]
    },
    {
      "cell_type": "code",
      "execution_count": null,
      "metadata": {
        "id": "3MgGKh_pOawz",
        "outputId": "ec4d1558-5cee-4013-c7e7-e97ddf3cb637"
      },
      "outputs": [
        {
          "name": "stdout",
          "output_type": "stream",
          "text": [
            "outside the if block\n"
          ]
        }
      ],
      "source": [
        "statement1 = False\n",
        "\n",
        "if statement1:\n",
        "    print(\"printed if statement1 is True\")\n",
        "\n",
        "print(\"outside the if block\")"
      ]
    },
    {
      "cell_type": "markdown",
      "metadata": {
        "id": "T46qPr5nOaw0"
      },
      "source": [
        "## **For loop**\n",
        "\n",
        "The syntax of `for` loops is `for x in something:` followed by an indentation of one tab which represents what will be executed.\n",
        "\n",
        "The `something` above can be of different nature: list, dictionary, etc."
      ]
    },
    {
      "cell_type": "code",
      "execution_count": null,
      "metadata": {
        "id": "F2X6hk3rOaw0",
        "outputId": "1c4ef826-64a0-45de-cef4-b67e9d9ffaff"
      },
      "outputs": [
        {
          "name": "stdout",
          "output_type": "stream",
          "text": [
            "1\n",
            "2\n",
            "3\n"
          ]
        }
      ],
      "source": [
        "for x in [1, 2, 3]:\n",
        "    print(x)"
      ]
    },
    {
      "cell_type": "code",
      "execution_count": null,
      "metadata": {
        "id": "3pbJqRi_Oaw0",
        "outputId": "224a8c2b-9a31-4836-9a32-97850629a9db"
      },
      "outputs": [
        {
          "name": "stdout",
          "output_type": "stream",
          "text": [
            "Python for data Science \n"
          ]
        }
      ],
      "source": [
        "sentence = \"\"\n",
        "for word in [\"Python\", \"for\", \"data\", \"Science\"]:\n",
        "    sentence = sentence + word + \" \"\n",
        "print(sentence)"
      ]
    },
    {
      "cell_type": "markdown",
      "metadata": {
        "id": "ueFOvAG2Oaw0"
      },
      "source": [
        "A useful function is <tt>range</tt> which generated sequences of numbers that can be used in loops."
      ]
    },
    {
      "cell_type": "code",
      "execution_count": null,
      "metadata": {
        "id": "pB5L6hElOaw0",
        "outputId": "b874e5be-e39b-4ce9-eeca-919a4547f6c4"
      },
      "outputs": [
        {
          "name": "stdout",
          "output_type": "stream",
          "text": [
            "Range (from 0) to 4 (excluded) \n",
            "0\n",
            "1\n",
            "2\n",
            "3\n",
            "Range from 2 (included) to 6 (excluded) \n",
            "2\n",
            "3\n",
            "4\n",
            "5\n",
            "Range from 1 (included) to 12 (excluded) by steps of 3 \n",
            "1\n",
            "4\n",
            "7\n",
            "10\n"
          ]
        }
      ],
      "source": [
        "print(\"Range (from 0) to 4 (excluded) \")\n",
        "for x in range(4):\n",
        "    print(x)\n",
        "\n",
        "print(\"Range from 2 (included) to 6 (excluded) \")\n",
        "for x in range(2,6):\n",
        "    print(x)\n",
        "\n",
        "print(\"Range from 1 (included) to 12 (excluded) by steps of 3 \")\n",
        "for x in range(1,12,3):\n",
        "    print(x)"
      ]
    },
    {
      "cell_type": "markdown",
      "metadata": {
        "id": "c29ldEC-Oaw0"
      },
      "source": [
        "If the index is needed along with the value, the function `enumerate` is useful."
      ]
    },
    {
      "cell_type": "code",
      "execution_count": null,
      "metadata": {
        "id": "sHuCPHxTOaw0",
        "outputId": "729a1198-a11f-4dc5-a6ee-9b39424a8ad3"
      },
      "outputs": [
        {
          "name": "stdout",
          "output_type": "stream",
          "text": [
            "0 -3\n",
            "1 -2\n",
            "2 -1\n",
            "3 0\n",
            "4 1\n",
            "5 2\n"
          ]
        }
      ],
      "source": [
        "for idx, x in enumerate(range(-3,3)):\n",
        "    print(idx, x)"
      ]
    },
    {
      "cell_type": "markdown",
      "metadata": {
        "id": "BgpBt0FwOaw0"
      },
      "source": [
        "## **While loop**\n",
        "\n",
        "Similarly to `for` loops, the syntax is`while condition:` followed by an indentation of one tab which represents what will be executed."
      ]
    },
    {
      "cell_type": "code",
      "execution_count": null,
      "metadata": {
        "id": "oNQHZ5MrOaw1",
        "outputId": "73613c8a-2a9c-41bc-f99e-30d1673e09e9"
      },
      "outputs": [
        {
          "name": "stdout",
          "output_type": "stream",
          "text": [
            "0\n",
            "1\n",
            "2\n",
            "3\n",
            "4\n"
          ]
        }
      ],
      "source": [
        "i = 0\n",
        "\n",
        "while i<5:\n",
        "    print(i)\n",
        "    i+=1"
      ]
    },
    {
      "cell_type": "markdown",
      "metadata": {
        "id": "iXHcbHXrOaw1"
      },
      "source": [
        "## **range**"
      ]
    },
    {
      "cell_type": "code",
      "execution_count": null,
      "metadata": {
        "id": "whDjPwgLOaw1",
        "outputId": "626aa8b8-7473-4c9e-90b1-e0bb691048de",
        "colab": {
          "base_uri": "https://localhost:8080/"
        }
      },
      "outputs": [
        {
          "output_type": "execute_result",
          "data": {
            "text/plain": [
              "range(0, 5)"
            ]
          },
          "metadata": {},
          "execution_count": 3
        }
      ],
      "source": [
        "range(5)"
      ]
    },
    {
      "cell_type": "code",
      "execution_count": null,
      "metadata": {
        "id": "kQFxE9nAOaw1",
        "outputId": "e3b901fd-01c1-4095-c81c-b31573663bcf",
        "colab": {
          "base_uri": "https://localhost:8080/"
        }
      },
      "outputs": [
        {
          "output_type": "stream",
          "name": "stdout",
          "text": [
            "0\n",
            "1\n",
            "2\n",
            "3\n",
            "4\n"
          ]
        }
      ],
      "source": [
        "for i in range(5):\n",
        "    print(i)"
      ]
    },
    {
      "cell_type": "code",
      "execution_count": null,
      "metadata": {
        "id": "agJr7zTNOaw1",
        "outputId": "d8985345-a03c-4dcc-f795-80ae90e64e23",
        "colab": {
          "base_uri": "https://localhost:8080/"
        }
      },
      "outputs": [
        {
          "output_type": "execute_result",
          "data": {
            "text/plain": [
              "range(0, 20)"
            ]
          },
          "metadata": {},
          "execution_count": 7
        }
      ],
      "source": [
        "start = 0 #Default\n",
        "stop = 20\n",
        "x = range(start,stop)\n",
        "x"
      ]
    },
    {
      "cell_type": "markdown",
      "metadata": {
        "id": "5J2fAg4yOaw1"
      },
      "source": [
        "- Great! Notice how it went *up to* 20, but doesn't actually produce 20. Just like in indexing. What about step size? We can specify that as a third argument:"
      ]
    },
    {
      "cell_type": "code",
      "execution_count": null,
      "metadata": {
        "id": "UIgaqP01Oaw1",
        "outputId": "cf692efa-f1ed-4e35-ed06-ddea90108835",
        "colab": {
          "base_uri": "https://localhost:8080/"
        }
      },
      "outputs": [
        {
          "output_type": "execute_result",
          "data": {
            "text/plain": [
              "range(0, 20, 2)"
            ]
          },
          "metadata": {},
          "execution_count": 8
        }
      ],
      "source": [
        "x = range(start,stop,2)\n",
        "#Show\n",
        "x"
      ]
    },
    {
      "cell_type": "code",
      "execution_count": null,
      "metadata": {
        "id": "g3taUqGyOaw1",
        "outputId": "a5f0d098-bd13-40db-c831-94b214c0a175",
        "colab": {
          "base_uri": "https://localhost:8080/"
        }
      },
      "outputs": [
        {
          "output_type": "execute_result",
          "data": {
            "text/plain": [
              "[0, 1, 2, 3, 4]"
            ]
          },
          "metadata": {},
          "execution_count": 9
        }
      ],
      "source": [
        "list(range(5))"
      ]
    },
    {
      "cell_type": "markdown",
      "metadata": {
        "id": "csZb9IfoOaw2"
      },
      "source": [
        "## **Try [*]**\n",
        "\n",
        "When a command may fail, you can `try` to execute it and optionally catch the `Exception` (i.e. the error).\n",
        "\n"
      ]
    },
    {
      "cell_type": "code",
      "execution_count": null,
      "metadata": {
        "id": "nY72ZeKVOaw2",
        "outputId": "d27502f5-e32f-48ca-b59b-c647eb7f7087",
        "colab": {
          "base_uri": "https://localhost:8080/"
        }
      },
      "outputs": [
        {
          "output_type": "stream",
          "name": "stdout",
          "text": [
            "[1, 2, 3]\n",
            "command ok\n",
            "[1, 3, 3]\n",
            "list assignment index out of range\n",
            "[1, 3, 3]\n"
          ]
        }
      ],
      "source": [
        "a = [1,2,3]\n",
        "print(a)\n",
        "\n",
        "try:\n",
        "    a[1] = 3\n",
        "    print(\"command ok\")\n",
        "except Exception as error:\n",
        "    print(error)\n",
        "\n",
        "print(a) # The command went through\n",
        "\n",
        "try:\n",
        "    a[6] = 3\n",
        "    print(\"command ok\")\n",
        "except Exception as error:\n",
        "    print(error)\n",
        "\n",
        "print(a) # The command failed"
      ]
    },
    {
      "cell_type": "markdown",
      "metadata": {
        "id": "r6kv7-B6Oaw2"
      },
      "source": [
        "# **3- Functions**\n",
        "\n",
        "\n",
        "In Python, a function is defined as  \n",
        "`def function_name(function_arguments):`\n",
        "\n",
        "            followed by an indentation representing what is inside the function.\n",
        "(No return arguments are provided a priori)\n",
        "\n"
      ]
    },
    {
      "cell_type": "markdown",
      "metadata": {
        "id": "IRUE31JIOaw2"
      },
      "source": [
        "#### **What is wrong in this function**"
      ]
    },
    {
      "cell_type": "code",
      "execution_count": null,
      "metadata": {
        "id": "RWygiTNhOaw2",
        "outputId": "2c254e7a-a919-455f-8ce6-bbaa05a7d5fd"
      },
      "outputs": [
        {
          "ename": "SyntaxError",
          "evalue": "invalid syntax (<ipython-input-32-46fa605cb4a4>, line 2)",
          "output_type": "error",
          "traceback": [
            "\u001b[0;36m  File \u001b[0;32m\"<ipython-input-32-46fa605cb4a4>\"\u001b[0;36m, line \u001b[0;32m2\u001b[0m\n\u001b[0;31m    def (my_number):\u001b[0m\n\u001b[0m        ^\u001b[0m\n\u001b[0;31mSyntaxError\u001b[0m\u001b[0;31m:\u001b[0m invalid syntax\n"
          ]
        }
      ],
      "source": [
        "# 1. No name\n",
        "def (my_number):\n",
        "  return my_number"
      ]
    },
    {
      "cell_type": "code",
      "execution_count": null,
      "metadata": {
        "id": "dU2mA31GOaw2",
        "outputId": "9dec355b-6aba-4dba-ffe7-c0a9b357b1de"
      },
      "outputs": [
        {
          "ename": "SyntaxError",
          "evalue": "'return' outside function (<ipython-input-33-024de9fa9b16>, line 3)",
          "output_type": "error",
          "traceback": [
            "\u001b[0;36m  File \u001b[0;32m\"<ipython-input-33-024de9fa9b16>\"\u001b[0;36m, line \u001b[0;32m3\u001b[0m\n\u001b[0;31m    return my_number\u001b[0m\n\u001b[0m    ^\u001b[0m\n\u001b[0;31mSyntaxError\u001b[0m\u001b[0;31m:\u001b[0m 'return' outside function\n"
          ]
        }
      ],
      "source": [
        "# 2. No parentheses\n",
        "# def my_function:\n",
        "return my_number"
      ]
    },
    {
      "cell_type": "code",
      "execution_count": null,
      "metadata": {
        "id": "QvOlOvUTOaw3",
        "outputId": "1007f45b-b4a6-4150-ca2e-389ce26bbd3e"
      },
      "outputs": [
        {
          "ename": "SyntaxError",
          "evalue": "invalid syntax (<ipython-input-34-f59f7f6ce940>, line 2)",
          "output_type": "error",
          "traceback": [
            "\u001b[0;36m  File \u001b[0;32m\"<ipython-input-34-f59f7f6ce940>\"\u001b[0;36m, line \u001b[0;32m2\u001b[0m\n\u001b[0;31m    def my_function\u001b[0m\n\u001b[0m                   ^\u001b[0m\n\u001b[0;31mSyntaxError\u001b[0m\u001b[0;31m:\u001b[0m invalid syntax\n"
          ]
        }
      ],
      "source": [
        "# 3. No colon\n",
        "def my_function\n",
        "  return my_number"
      ]
    },
    {
      "cell_type": "code",
      "execution_count": null,
      "metadata": {
        "id": "2J1x52jgOaw3",
        "outputId": "f7307da8-fe6c-46db-fc12-b0c342548b52"
      },
      "outputs": [
        {
          "ename": "IndentationError",
          "evalue": "expected an indented block (<ipython-input-35-4a0c983cb33e>, line 3)",
          "output_type": "error",
          "traceback": [
            "\u001b[0;36m  File \u001b[0;32m\"<ipython-input-35-4a0c983cb33e>\"\u001b[0;36m, line \u001b[0;32m3\u001b[0m\n\u001b[0;31m    return my_number\u001b[0m\n\u001b[0m    ^\u001b[0m\n\u001b[0;31mIndentationError\u001b[0m\u001b[0;31m:\u001b[0m expected an indented block\n"
          ]
        }
      ],
      "source": [
        "# 4. No indentation\n",
        "def my_function():\n",
        "return my_number"
      ]
    },
    {
      "cell_type": "markdown",
      "metadata": {
        "id": "0BPXiK5LOaw3"
      },
      "source": [
        "## **Functions**"
      ]
    },
    {
      "cell_type": "code",
      "execution_count": null,
      "metadata": {
        "id": "sraeSRfAOaw3",
        "outputId": "1f953580-bdf0-46cf-c42d-68eeec1f8fff",
        "colab": {
          "base_uri": "https://localhost:8080/"
        }
      },
      "outputs": [
        {
          "output_type": "stream",
          "name": "stdout",
          "text": [
            "\"fun0\" just prints\n"
          ]
        }
      ],
      "source": [
        "def fun0():\n",
        "    print(\"\\\"fun0\\\" just prints\")\n",
        "\n",
        "fun0()"
      ]
    },
    {
      "cell_type": "markdown",
      "metadata": {
        "id": "QlLR6IglOaw3"
      },
      "source": [
        "Docstring can be added to document the function, which will appear when calling `help`"
      ]
    },
    {
      "cell_type": "code",
      "execution_count": null,
      "metadata": {
        "id": "kpjuZQE8Oaw4",
        "outputId": "f2028745-a62c-422b-cce8-f92f7fbe5247",
        "colab": {
          "base_uri": "https://localhost:8080/"
        }
      },
      "outputs": [
        {
          "output_type": "stream",
          "name": "stdout",
          "text": [
            "[1, 'iuoiu', True]  is of length  3\n"
          ]
        }
      ],
      "source": [
        "def fun1(l):\n",
        "    \"\"\"\n",
        "    Prints a list and its length\n",
        "    \"\"\"\n",
        "    print(l, \" is of length \", len(l))\n",
        "\n",
        "fun1([1,'iuoiu',True])"
      ]
    },
    {
      "cell_type": "code",
      "execution_count": null,
      "metadata": {
        "id": "R2GkpLyUOaw4",
        "outputId": "f835c296-a33e-411a-e889-f3d7f9768b8d",
        "colab": {
          "base_uri": "https://localhost:8080/"
        }
      },
      "outputs": [
        {
          "output_type": "stream",
          "name": "stdout",
          "text": [
            "Help on function fun1 in module __main__:\n",
            "\n",
            "fun1(l)\n",
            "    Prints a list and its length\n",
            "\n"
          ]
        }
      ],
      "source": [
        "help(fun1)"
      ]
    },
    {
      "cell_type": "markdown",
      "metadata": {
        "id": "Ku4fwOBMOaw4"
      },
      "source": [
        "* *_ _main_ _* in the name of the environment where top-level code is run"
      ]
    },
    {
      "cell_type": "markdown",
      "metadata": {
        "id": "WxPl20TgOaw4"
      },
      "source": [
        "## **Outputs**\n",
        "\n",
        "`return` outputs a variable, tuple, dictionary, ..."
      ]
    },
    {
      "cell_type": "code",
      "execution_count": null,
      "metadata": {
        "id": "aarCrI6xOaw4",
        "outputId": "1fbea623-f164-45a2-d212-181187f15da3"
      },
      "outputs": [
        {
          "name": "stdout",
          "output_type": "stream",
          "text": [
            "Help on function square in module __main__:\n",
            "\n",
            "square(x)\n",
            "    Return x squared.\n",
            "\n",
            "144\n"
          ]
        }
      ],
      "source": [
        "def square(x):\n",
        "    \"\"\"\n",
        "    Return x squared.\n",
        "    \"\"\"\n",
        "    return(x ** 2)\n",
        "\n",
        "help(square)\n",
        "res = square(12)\n",
        "print(res)"
      ]
    },
    {
      "cell_type": "code",
      "execution_count": null,
      "metadata": {
        "id": "HVXyv3M1Oaw4",
        "outputId": "97f850c9-e449-4d10-c395-50059feb01f9"
      },
      "outputs": [
        {
          "name": "stdout",
          "output_type": "stream",
          "text": [
            "Help on function powers in module __main__:\n",
            "\n",
            "powers(x)\n",
            "    Return the first powers of x.\n",
            "\n"
          ]
        }
      ],
      "source": [
        "def powers(x):\n",
        "    \"\"\"\n",
        "    Return the first powers of x.\n",
        "    \"\"\"\n",
        "    return(x ** 2, x ** 3, x ** 4)\n",
        "\n",
        "help(powers)"
      ]
    },
    {
      "cell_type": "code",
      "execution_count": null,
      "metadata": {
        "id": "v5ddPOmwOaw4",
        "outputId": "ef7c1a50-d7ba-4261-b29f-6055681b796d"
      },
      "outputs": [
        {
          "name": "stdout",
          "output_type": "stream",
          "text": [
            "(144, 1728, 20736) <class 'tuple'>\n"
          ]
        }
      ],
      "source": [
        "res = powers(12)\n",
        "print(res, type(res))"
      ]
    },
    {
      "cell_type": "code",
      "execution_count": null,
      "metadata": {
        "id": "bLvLLw6iOaw4",
        "outputId": "52595057-93c3-49bd-c719-92edadaa5043"
      },
      "outputs": [
        {
          "name": "stdout",
          "output_type": "stream",
          "text": [
            "27 <class 'int'>\n"
          ]
        }
      ],
      "source": [
        "two,three,four = powers(3)\n",
        "print(three,type(three))"
      ]
    },
    {
      "cell_type": "code",
      "execution_count": null,
      "metadata": {
        "id": "LL3Nl2ZIOaw5",
        "outputId": "537500a7-dddb-4730-b3f3-b3720dbfdb64"
      },
      "outputs": [
        {
          "name": "stdout",
          "output_type": "stream",
          "text": [
            "{'two': 144, 'three': 1728, 'four': 20736} <class 'dict'>\n",
            "144 <class 'int'>\n"
          ]
        }
      ],
      "source": [
        "def powers_dict(x):\n",
        "    \"\"\"\n",
        "    Return the first powers of x as a dictionary.\n",
        "    \"\"\"\n",
        "    return{\"two\": x ** 2, \"three\": x ** 3,  \"four\": x ** 4}\n",
        "\n",
        "\n",
        "res = powers_dict(12)\n",
        "print(res, type(res))\n",
        "print(res[\"two\"],type(res[\"two\"]))"
      ]
    },
    {
      "cell_type": "markdown",
      "metadata": {
        "id": "o57ysqbVOaw5"
      },
      "source": [
        "## **Arguments**\n",
        "\n",
        "It is possible to\n",
        "* Give the arguments in any order provided that you write the corresponding argument variable name\n",
        "* Set defaults values to variables so that they become optional"
      ]
    },
    {
      "cell_type": "code",
      "execution_count": null,
      "metadata": {
        "id": "-51qsBTaOaw5"
      },
      "outputs": [],
      "source": [
        "def fancy_power(x, p=2, debug=False):\n",
        "    \"\"\"\n",
        "    Here is a fancy version of power that computes the square of the argument or other powers if p is set\n",
        "    \"\"\"\n",
        "    if debug:\n",
        "        print( \"\\\"fancy_power\\\" is called with x =\", x, \" and p =\", p)\n",
        "    return(x**p)"
      ]
    },
    {
      "cell_type": "code",
      "execution_count": null,
      "metadata": {
        "id": "4SETrEtkOaw5",
        "outputId": "2a960a98-c40d-4127-a2c5-e2d079a04641"
      },
      "outputs": [
        {
          "name": "stdout",
          "output_type": "stream",
          "text": [
            "25\n",
            "125\n"
          ]
        }
      ],
      "source": [
        "print(fancy_power(5))\n",
        "print(fancy_power(5,p=3))"
      ]
    },
    {
      "cell_type": "code",
      "execution_count": null,
      "metadata": {
        "id": "v9kNR5WlOaw5",
        "outputId": "ea038a46-6dcd-49fc-f92c-1286ad7a65fa"
      },
      "outputs": [
        {
          "name": "stdout",
          "output_type": "stream",
          "text": [
            "\"fancy_power\" is called with x = 2  and p = 8\n",
            "256\n"
          ]
        }
      ],
      "source": [
        "res = fancy_power(p=8,x=2,debug=True)\n",
        "print(res)"
      ]
    },
    {
      "cell_type": "markdown",
      "metadata": {
        "id": "jA7M3RKIOaw5"
      },
      "source": [
        "## **Lambda(), Map(), Filter() functions**"
      ]
    },
    {
      "cell_type": "markdown",
      "metadata": {
        "id": "8ShcWArjOaw5"
      },
      "source": [
        "### **Lambda Expration**\n",
        "\n",
        "\n",
        "Lambda functions are similar to user-defined functions but without a name.\n",
        "\n",
        "They're commonly referred to as anonymous functions.\n",
        "\n",
        "Lambda functions are efficient whenever you want to create a function that will only contain simple expressions – that is, expressions that are usually a single line of a statement.\n",
        "\n",
        "They're also useful when you want to use the function once.\n",
        "\n",
        "> **lambda argument(s) : expression**\n",
        "\n",
        "**lambda** is a keyword in Python for defining the anonymous function.\n",
        "\n",
        "**argument(s)** is a placeholder, that is a variable that will be used to hold the value you want to pass into the function expression. A lambda function can have multiple variables depending on what you want to achieve.\n",
        "\n",
        "**expression** is the code you want to execute in the lambda function.\n",
        "Notice that the anonymous function does not have a return keyword. This is because the anonymous function will automatically return the result of the expression in the function once it is executed.\n",
        "\n",
        "**lambda's body is a single expression, not a block of statements.**\n",
        "\n",
        "\n",
        "Let's look at an example of a lambda function to see how it works. We'll compare it to a regular user-defined function.\n",
        "\n",
        "In Python, iterables include strings, lists, dictionaries, ranges, tuples, and so on. When working with iterables, you can use lambda functions in conjunction with two common functions: `filter()`and `map()`."
      ]
    },
    {
      "cell_type": "code",
      "execution_count": null,
      "metadata": {
        "id": "WHv_LUy1Oaw5",
        "outputId": "c3089f7f-eca1-45dd-9e0c-ec721d7fcba6"
      },
      "outputs": [
        {
          "data": {
            "text/plain": [
              "6"
            ]
          },
          "execution_count": 1,
          "metadata": {},
          "output_type": "execute_result"
        }
      ],
      "source": [
        "# bed style ! f - must be name of the \"what the function doing\"\n",
        "def f(x):\n",
        "  return x * 2\n",
        "\n",
        "f(3)\n"
      ]
    },
    {
      "cell_type": "code",
      "execution_count": null,
      "metadata": {
        "id": "Y3MHseV0Oaw6",
        "outputId": "fbe41043-9bd8-4cd9-c1b9-4db9a055f82e"
      },
      "outputs": [
        {
          "data": {
            "text/plain": [
              "<function __main__.<lambda>(x)>"
            ]
          },
          "execution_count": 116,
          "metadata": {},
          "output_type": "execute_result"
        }
      ],
      "source": [
        "# lambda function\n",
        "\n",
        "lambda x: x * 3"
      ]
    },
    {
      "cell_type": "code",
      "execution_count": null,
      "metadata": {
        "id": "lS9X4U7vOaw6",
        "outputId": "3a9aa1b4-399b-4635-a4f5-f52b3b107364"
      },
      "outputs": [
        {
          "data": {
            "text/plain": [
              "6"
            ]
          },
          "execution_count": 117,
          "metadata": {},
          "output_type": "execute_result"
        }
      ],
      "source": [
        "# how we get back value from lambda?\n",
        "\n",
        "multiply_by_3 = lambda x: x * 3\n",
        "multiply_by_3(2)"
      ]
    },
    {
      "cell_type": "markdown",
      "metadata": {
        "id": "pgGJCARmOaw6"
      },
      "source": [
        "**Lambda Function with if-else**\n",
        "\n",
        "Here we are using the Max lambda function to find the maximum of two integers."
      ]
    },
    {
      "cell_type": "code",
      "execution_count": null,
      "metadata": {
        "id": "8qq1l6wqOaw6",
        "outputId": "e42a6d1f-2c4b-4122-fc8c-eab75afcc012"
      },
      "outputs": [
        {
          "name": "stdout",
          "output_type": "stream",
          "text": [
            "2\n"
          ]
        }
      ],
      "source": [
        "Max = lambda a, b : a if(a > b) else b\n",
        "print(Max(1, 2))"
      ]
    },
    {
      "cell_type": "markdown",
      "metadata": {
        "id": "TOMDPePAOaw6"
      },
      "source": [
        "**Lambda with Multiple Statements**\n",
        "\n",
        "Lambda functions do not allow multiple statements, however, we can create two lambda functions and then call the other lambda function as a parameter to the first function. Let’s try to find the second maximum element using lambda.\n",
        "\n",
        "The code defines a list of sublists called ‘List'. It uses lambda functions to sort each sublist and find the second-largest element in each sublist. The result is a list of second-largest elements, which is then printed. The output displays the second-largest element from each sublist in the original list"
      ]
    },
    {
      "cell_type": "code",
      "execution_count": null,
      "metadata": {
        "id": "DLCmF27xOaw7",
        "outputId": "20b72a83-5ee9-4e1d-b2f3-40867e14eec7"
      },
      "outputs": [
        {
          "name": "stdout",
          "output_type": "stream",
          "text": [
            "[3, 16, 9]\n"
          ]
        }
      ],
      "source": [
        "List = [[2,3,4],[1, 4, 16, 64],[3, 6, 9, 12]]\n",
        "\n",
        "sortList = lambda x: (sorted(i) for i in x)\n",
        "secondLargest = lambda x, f : [y[len(y)-2] for y in f(x)]\n",
        "res = secondLargest(List, sortList)\n",
        "\n",
        "print(res)\n"
      ]
    },
    {
      "cell_type": "markdown",
      "metadata": {
        "id": "46DtZSbJOaw7"
      },
      "source": [
        "Many function calls need a function passed in, such as map and filter. Often you only need to use the function you are passing in once, so instead of formally defining it, you just use the lambda expression."
      ]
    },
    {
      "cell_type": "markdown",
      "metadata": {
        "id": "Ko_3q5N0Oaw7"
      },
      "source": [
        "### **Filter()**\n",
        "\n",
        "Filter() is used to create a list of elements for which a function returns “True”.\n",
        "\n",
        "Syntax- filter( function that returns True, list)\n",
        "\n",
        "\n",
        "\n",
        "The **`filter()`** function operates on an iterable, such as a list, and applies a given function to each item in the iterable.\n",
        "\n",
        "The function should return either `True` or `False`.\n",
        "\n",
        "**`filter()`** then returns an iterator that yields only those items from the iterable for which the function returns `True`.\n",
        "\n",
        "In other words, it selectively filters out elements based on the evaluation of the given function.\n",
        "\n",
        "When you pass this function (along with your iterable) into **`filter()`**, you will receive back only the elements that would return `True` when passed to the function.\n",
        "\n",
        "\n",
        "Filter function requires another function that contains the expression or operations that will be performed on the iterable."
      ]
    },
    {
      "cell_type": "markdown",
      "metadata": {
        "id": "mMFKw3gdOaw7"
      },
      "source": [
        "**Example**\n",
        "Filter all people having age more than 18, using lambda and filter() function\n"
      ]
    },
    {
      "cell_type": "code",
      "execution_count": null,
      "metadata": {
        "id": "kVU1ThM9Oaw7",
        "outputId": "e46a9f62-6861-473c-b832-75c031773057"
      },
      "outputs": [
        {
          "name": "stdout",
          "output_type": "stream",
          "text": [
            "[90, 59, 21, 60]\n"
          ]
        }
      ],
      "source": [
        "ages = [13, 90, 17, 59, 21, 60, 5]\n",
        "adults = list(filter(lambda age: age > 18, ages))\n",
        "\n",
        "print(adults)\n"
      ]
    },
    {
      "cell_type": "markdown",
      "metadata": {
        "id": "8xxulGSDOaw7"
      },
      "source": [
        "### **map()**\n",
        "\n",
        "The **map()** function takes a function and a list as input.\n",
        "\n",
        "**map()** performs an operation on the entire list and return the result in a new list\n",
        "\n",
        ">Syntax- **map(function/lambda, list)**\n",
        "\n",
        "The **map()** function in Python takes in a function and a list as an argument.\n",
        "\n",
        "The function is called with a lambda function and a list and a new list is returned which contains all the lambda-modified items returned by that function for each item.\n",
        "\n",
        "\n",
        "\n",
        "You use the **map() function whenever you want to modify every value in an iterable**."
      ]
    },
    {
      "cell_type": "code",
      "execution_count": null,
      "metadata": {
        "id": "5jRW3ZCKOaw7",
        "outputId": "c04feff0-07ed-40da-eea0-e7e2a9a4157c"
      },
      "outputs": [
        {
          "data": {
            "text/plain": [
              "[4, 9, 16, 25]"
            ]
          },
          "execution_count": 120,
          "metadata": {},
          "output_type": "execute_result"
        }
      ],
      "source": [
        "list1 = [2, 3, 4, 5]\n",
        "\n",
        "list(map(lambda x: pow(x, 2), list1))"
      ]
    },
    {
      "cell_type": "markdown",
      "metadata": {
        "id": "jK775PX-Oaw8"
      },
      "source": [
        "**Example** Multiply all elements of a list by 2 using lambda and map() function"
      ]
    },
    {
      "cell_type": "code",
      "execution_count": null,
      "metadata": {
        "id": "SxwkV0R3Oaw8",
        "outputId": "578badc6-8a20-4ba1-d226-9eb7ba431c5a"
      },
      "outputs": [
        {
          "name": "stdout",
          "output_type": "stream",
          "text": [
            "[10, 14, 44, 194, 108, 124, 154, 46, 146, 122]\n"
          ]
        }
      ],
      "source": [
        "li = [5, 7, 22, 97, 54, 62, 77, 23, 73, 61]\n",
        "\n",
        "final_list = list(map(lambda x: x*2, li))\n",
        "print(final_list)\n"
      ]
    },
    {
      "cell_type": "markdown",
      "metadata": {
        "id": "2ve_eGKEOaw8"
      },
      "source": [
        "**Example** Transform all elements of a list to upper case using lambda and map() function\n",
        "\n",
        "The code converts a list of animal names to uppercase using a lambda function and the ‘map' function. It then prints the list with the animal names in uppercase. The output displays the animal names in all uppercase letters."
      ]
    },
    {
      "cell_type": "code",
      "execution_count": null,
      "metadata": {
        "id": "btmwe63OOaw8",
        "outputId": "310eb637-5309-4995-cdb1-47c3ec8d28e7"
      },
      "outputs": [
        {
          "name": "stdout",
          "output_type": "stream",
          "text": [
            "['DOG', 'CAT', 'PARROT', 'RABBIT']\n"
          ]
        }
      ],
      "source": [
        "animals = ['dog', 'cat', 'parrot', 'rabbit']\n",
        "uppered_animals = list(map(lambda animal: animal.upper(), animals))\n",
        "\n",
        "print(uppered_animals)\n"
      ]
    },
    {
      "cell_type": "code",
      "execution_count": null,
      "metadata": {
        "id": "fy-CzWIcOaw8"
      },
      "outputs": [],
      "source": []
    },
    {
      "cell_type": "markdown",
      "metadata": {
        "id": "42ujB97jOaw8"
      },
      "source": [
        "# **4- Classes [*]** - Read at home - HW\n",
        "\n",
        "\n",
        "Classes are at the core of *object-oriented* programming, they are used to represent an object with related **attribues**(variables) and **methods** (functions).\n",
        "\n",
        "They are defined as functions but with the keyword class `class my_class(object):` followed by an indentation. The definition of a class usually contains some methods:\n",
        "* The first argument of a method must be `self` in auto-reference.\n",
        "* Some method names have a specific meaning:\n",
        "   * `__init__`: method executed at the creation of the object\n",
        "   * `__str__` : method executed to represent the object as a string for instance when the object is passed ot the function `print`\n",
        "\n",
        "\n",
        "\n",
        "https://www.youtube.com/watch?v=boEUcROx1N8\n",
        "\n",
        "https://www.youtube.com/watch?v=mMDFXC-Y2Co\n",
        "\n",
        "https://realpython.com/python3-object-oriented-programming/\n",
        "\n",
        "https://www.datacamp.com/tutorial/python-oop-tutorial\n",
        "\n",
        "https://python.swaroopch.com/oop.html"
      ]
    },
    {
      "cell_type": "code",
      "execution_count": null,
      "metadata": {
        "id": "hpnTotPIOaw9"
      },
      "outputs": [],
      "source": [
        "class Point(object): # This line defines a class named Point that inherits from the base class object\n",
        "    \"\"\"\n",
        "    Class of a point in the 2D plane.\n",
        "    \"\"\"\n",
        "    def __init__(self, x=0.0, y=0.0):\n",
        "#This method is the constructor or initializer for the Point class.\n",
        "# It is called automatically when a new instance of the class is created.\n",
        "        \"\"\"\n",
        "        Creation of a new point at position (x, y).\n",
        "        \"\"\"\n",
        "        # These lines initialize the instance variables x and y with the values passed as arguments.\n",
        "        # If no values are provided, default values of 0.0 are used.\n",
        "        self.x = x\n",
        "        self.y = y\n",
        "\n",
        "    def translate(self, dx, dy):\n",
        "        \"\"\"\n",
        "        Translate the point by (dx , dy).\n",
        "        This method allows the point to be\n",
        "        translated (moved) by a specified amount along the x and y axes.\n",
        "        \"\"\"\n",
        "        self.x += dx\n",
        "        self.y += dy\n",
        "\n",
        "    def __str__(self):\n",
        "        '''\n",
        "        his method defines the string representation of a Point object.\n",
        "        It is invoked when the str() function is called on an instance of the class.\n",
        "        '''\n",
        "        return(\"Point: ({:.2f}, {:.2f})\".format(self.x, self.y))"
      ]
    },
    {
      "cell_type": "code",
      "execution_count": null,
      "metadata": {
        "id": "XXRnFE8FOaw9",
        "outputId": "ecd35ee4-d3b9-4eb7-e821-5d967790f0f0"
      },
      "outputs": [
        {
          "name": "stdout",
          "output_type": "stream",
          "text": [
            "Point: (0.00, 0.00)\n",
            "Point: (3.00, 2.00)\n",
            "Point: (1.20, 3.00)\n"
          ]
        }
      ],
      "source": [
        "p1 = Point()\n",
        "print(p1)\n",
        "\n",
        "p1.translate(3,2)\n",
        "print(p1)\n",
        "\n",
        "p2 = Point(1.2,3)\n",
        "print(p2)"
      ]
    },
    {
      "cell_type": "markdown",
      "metadata": {
        "id": "ldkYj4cTOaw9"
      },
      "source": [
        "# **5- Reading and writing files**\n",
        "\n",
        "\n",
        "\n",
        "**`open`** returns a file object, and is most commonly used with two arguments: **`open(filename, mode)`**.\n",
        "\n",
        "The first argument is a string containing the filename. The second argument is another string containing a few characters describing the way in which the file will be used (optional, 'r' will be assumed if it’s omitted.):\n",
        "* 'r' when the file will only be read\n",
        "* 'w' for only writing (an existing file with the same name will be erased)\n",
        "* 'a' opens the file for appending; any data written to the file is automatically added to the end"
      ]
    },
    {
      "cell_type": "markdown",
      "metadata": {
        "id": "hFtqnULxOaw9"
      },
      "source": [
        "**`f.write(string)`** writes the contents of string to the file."
      ]
    },
    {
      "cell_type": "code",
      "execution_count": null,
      "metadata": {
        "id": "OMtwqGkaOaw9",
        "outputId": "62f3e607-4a4d-4de0-d334-6ed5e22d2cb1"
      },
      "outputs": [
        {
          "name": "stdout",
          "output_type": "stream",
          "text": [
            "File 'example.txt' created successfully.\n"
          ]
        }
      ],
      "source": [
        "# Open a file named 'example.txt' in write mode ('w')\n",
        "# If the file doesn't exist, it will be created. If it exists, it will be overwritten.\n",
        "with open('example.txt', 'w') as file:\n",
        "    # Write some text to the file\n",
        "    file.write('Hello, world!\\n')\n",
        "    file.write(\"This is a text file created using Python.\\n\")\n",
        "    file.write('Writing to files in Python is easy!\\n')\n",
        "\n",
        "print(\"File 'example.txt' created successfully.\")\n"
      ]
    },
    {
      "cell_type": "markdown",
      "metadata": {
        "id": "V78zueFXOaw9"
      },
      "source": [
        "What is the differance ???"
      ]
    },
    {
      "cell_type": "code",
      "execution_count": null,
      "metadata": {
        "id": "mLbaiYhrOaw9"
      },
      "outputs": [],
      "source": [
        "# Open the file 'example.txt' in write mode ('w')\n",
        "file = open('example.txt', 'w')\n",
        "\n",
        "# Write some text to the file\n",
        "file.write('Hello, world!\\n')\n",
        "file.write('This is a text file created using Python.\\n')\n",
        "file.write('Writing to files in Python is easy!\\n')\n",
        "\n",
        "# Close the file\n",
        "file.close()\n",
        "\n",
        "print(\"File 'example.txt' created successfully.\")\n"
      ]
    },
    {
      "cell_type": "markdown",
      "metadata": {
        "id": "nWbaD0jjOaw9"
      },
      "source": [
        "We first open the file 'example.txt' in write mode 'w'.\n",
        "We write some text to the file using the write() method.\n",
        "Finally, we explicitly close the file using the close() method.\n",
        "\n",
        "The file is closed after writing to ensure that all the data is properly flushed and saved to the disk.\n",
        "\n",
        "**Remember**, using with open() as file: is preferred as it automatically closes the file when the block is exited, ensuring proper resource management and preventing potential issues with file locks or resource leaks.\n",
        "\n",
        "\n",
        "*Warning:* For the file to be actually written and being able to be opened and modified again without mistakes, it is primordial to close the file handle with `f.close()`\n",
        "or if we use `with` statement is used here to ensure that the file is properly closed after writing.\n",
        "\n",
        "\n",
        "`f.read()` will read an entire file and put the pointer at the end.\n",
        "\n",
        "\n"
      ]
    },
    {
      "cell_type": "code",
      "execution_count": null,
      "metadata": {
        "id": "h4hquUyoOaw-",
        "outputId": "f7170406-3363-4f06-c52b-629a5ec3bff9"
      },
      "outputs": [
        {
          "data": {
            "text/plain": [
              "'Hello, world!\\nThis is a text file created using Python.\\nWriting to files in Python is easy!\\n'"
            ]
          },
          "execution_count": 149,
          "metadata": {},
          "output_type": "execute_result"
        }
      ],
      "source": [
        "f = open('example.txt', 'r')\n",
        "f.read()"
      ]
    },
    {
      "cell_type": "markdown",
      "metadata": {
        "id": "9mv7VlDXOaw-"
      },
      "source": [
        "`f.readline()` reads a single line from the file; a newline character (\\n) is left at the end of the string"
      ]
    },
    {
      "cell_type": "code",
      "execution_count": null,
      "metadata": {
        "id": "V8mgcTgKOaw-",
        "outputId": "54d07bfb-a55e-4064-957e-e854386df4c2"
      },
      "outputs": [
        {
          "data": {
            "text/plain": [
              "''"
            ]
          },
          "execution_count": 150,
          "metadata": {},
          "output_type": "execute_result"
        }
      ],
      "source": [
        "f.readline()"
      ]
    },
    {
      "cell_type": "code",
      "execution_count": null,
      "metadata": {
        "id": "gDcFHOmPOaw-",
        "outputId": "7d1c97a9-41e3-4f57-d5bb-90cd090782c4"
      },
      "outputs": [
        {
          "data": {
            "text/plain": [
              "'Made specially for this course\\n'"
            ]
          },
          "execution_count": 65,
          "metadata": {},
          "output_type": "execute_result"
        }
      ],
      "source": [
        "f.readline()"
      ]
    },
    {
      "cell_type": "markdown",
      "metadata": {
        "id": "4ShtUhn6Oaw-"
      },
      "source": [
        "For reading lines from a file, you can loop over the file object. This is memory efficient, fast, and leads to simple code:"
      ]
    },
    {
      "cell_type": "markdown",
      "metadata": {
        "id": "KBtPPbIVOaw-"
      },
      "source": [
        "# **6- Exercises**\n"
      ]
    },
    {
      "cell_type": "markdown",
      "metadata": {
        "id": "ju1rOHMUOaw-"
      },
      "source": [
        ">**Ecercises 1**"
      ]
    },
    {
      "cell_type": "markdown",
      "metadata": {
        "id": "zfYEJzBiOaw-"
      },
      "source": [
        ">**A.** Split the string\n",
        ">\n",
        ">name= \"my name is Alexandra\"\n",
        ">\n",
        ">into a list"
      ]
    },
    {
      "cell_type": "code",
      "execution_count": null,
      "metadata": {
        "id": "v1FcCFkTOaw-",
        "outputId": "534f176d-dcfd-4991-be5c-092ea9d96d6c"
      },
      "outputs": [
        {
          "data": {
            "text/plain": [
              "['\"my', 'name', 'is', 'Alexandra\"']"
            ]
          },
          "execution_count": 110,
          "metadata": {},
          "output_type": "execute_result"
        }
      ],
      "source": [
        "name= ' \"my name is Alexandra\"'\n",
        "name.split()"
      ]
    },
    {
      "cell_type": "code",
      "execution_count": null,
      "metadata": {
        "id": "2ttT3gWpOaw-"
      },
      "outputs": [],
      "source": []
    },
    {
      "cell_type": "markdown",
      "metadata": {
        "id": "oJQn_9OLOaw_"
      },
      "source": [
        "> **B.** Print variables\n",
        ">\n",
        ">name  = 'Alexandra'\n",
        ">\n",
        ">age = 35\n",
        ">\n",
        ">use .format() to print the fllowing string\n",
        ">\n",
        "> My name s Alexandra and I am 35 years old."
      ]
    },
    {
      "cell_type": "code",
      "execution_count": null,
      "metadata": {
        "id": "GsAQTNopOaw_",
        "outputId": "802b821c-98aa-45d9-e78e-7fddf925acc3"
      },
      "outputs": [
        {
          "name": "stdout",
          "output_type": "stream",
          "text": [
            "My name is Alexandra and I am 35 years old\n"
          ]
        }
      ],
      "source": [
        "name= 'Alexandra'\n",
        "age = 35\n",
        "print ('My name is {} and I am {} years old'.format(name,age))"
      ]
    },
    {
      "cell_type": "markdown",
      "metadata": {
        "id": "FuNnf9GXOaw_"
      },
      "source": [
        "> **C.**  **Filtering Words Not Starting with a Specific Letter**\n",
        ">\n",
        ">You're given a list of words, and you want to filter out the words that don't start with a specific letter.\n",
        ">\n",
        ">Write a Python function called filter_words_not_starting_with_letter(words, letter) that takes two parameters:\n",
        ">\n",
        ">words: A list of words.\n",
        ">letter: The letter to filter words by.\n",
        ">The function should return a list containing only the words from the original list that do not start with the specified letter.\n",
        ">\n",
        ">\n",
        ">**Hint:** You can must using lambda expressions and the filter() function to filter out the words.\n",
        ">\n",
        ">**Example:**\n",
        ">\n",
        ">words = ['apple', 'banana', 'cat', 'dog', 'elephant']\n",
        ">\n",
        ">letter = 'b'\n",
        ">\n",
        ">filtered_words = filter_words_not_starting_with_letter(words, letter)\n",
        ">\n",
        ">print(\"Filtered Words:\", filtered_words)\n",
        ">\n",
        ">\n",
        ">**Output:**\n",
        ">\n",
        ">Filtered Words: ['cat', 'dog', 'elephant']\n",
        "\n",
        "\n"
      ]
    },
    {
      "cell_type": "code",
      "execution_count": null,
      "metadata": {
        "id": "-grJ5jkSOaw_",
        "outputId": "ac9a41be-6829-4f0e-8504-33775df17265"
      },
      "outputs": [
        {
          "name": "stdout",
          "output_type": "stream",
          "text": [
            "Filtered Words: ['apple', 'cat', 'dog', 'elephant']\n"
          ]
        }
      ],
      "source": [
        "def filter_words_not_starting_with_letter(words, letter):\n",
        "    filtered_words = list(filter(lambda word: not word.startswith(letter), words))\n",
        "    return filtered_words\n",
        "\n",
        "# Example usage:\n",
        "words = ['apple', 'banana', 'cat', 'dog', 'elephant']\n",
        "letter = 'b'\n",
        "filtered_words = filter_words_not_starting_with_letter(words, letter)\n",
        "print(\"Filtered Words:\", filtered_words)\n"
      ]
    },
    {
      "cell_type": "code",
      "execution_count": null,
      "metadata": {
        "id": "IEhbYCkEOaw_",
        "outputId": "a4ec30e0-8761-4396-ce68-48e31a6659e9"
      },
      "outputs": [
        {
          "ename": "NameError",
          "evalue": "name 'startwith' is not defined",
          "output_type": "error",
          "traceback": [
            "\u001b[0;31m---------------------------------------------------------------------------\u001b[0m",
            "\u001b[0;31mNameError\u001b[0m                                 Traceback (most recent call last)",
            "\u001b[0;32m<ipython-input-6-d6a9e39288fd>\u001b[0m in \u001b[0;36m<module>\u001b[0;34m\u001b[0m\n\u001b[0;32m----> 1\u001b[0;31m \u001b[0mhelp\u001b[0m\u001b[0;34m(\u001b[0m\u001b[0mstartwith\u001b[0m\u001b[0;34m)\u001b[0m\u001b[0;34m\u001b[0m\u001b[0;34m\u001b[0m\u001b[0m\n\u001b[0m",
            "\u001b[0;31mNameError\u001b[0m: name 'startwith' is not defined"
          ]
        }
      ],
      "source": [
        "help(star)"
      ]
    },
    {
      "cell_type": "markdown",
      "metadata": {
        "id": "9om8ucQFOaw_"
      },
      "source": [
        "> **Exercise 2** tuple unpacking\n",
        ">\n",
        ">Tuples have a special quality when it comes to **for** loops. If you are iterating through a >sequence that contains tuples, the item can actually be the tuple itself, this is an example >of *tuple unpacking*. During the **for** loop we will be unpacking the tuple inside of a >sequence and we can access the individual items inside that tuple!"
      ]
    },
    {
      "cell_type": "code",
      "execution_count": null,
      "metadata": {
        "id": "JKUPu5xeOaw_"
      },
      "outputs": [],
      "source": [
        "l = [(2,4),(6,8),(10,12)]"
      ]
    },
    {
      "cell_type": "code",
      "execution_count": null,
      "metadata": {
        "id": "nWJLXrajOaw_",
        "outputId": "696bcf11-71b4-4aad-abb6-8a5cb34d71f5"
      },
      "outputs": [
        {
          "name": "stdout",
          "output_type": "stream",
          "text": [
            "(2, 4)\n",
            "(6, 8)\n",
            "(10, 12)\n"
          ]
        }
      ],
      "source": [
        "for tup in l:\n",
        "    print(tup)"
      ]
    },
    {
      "cell_type": "code",
      "execution_count": null,
      "metadata": {
        "id": "PjpgS7ipOaw_",
        "outputId": "d7bd60cd-be60-40dd-c4ca-ed559003747e"
      },
      "outputs": [
        {
          "name": "stdout",
          "output_type": "stream",
          "text": [
            "2\n",
            "6\n",
            "10\n"
          ]
        }
      ],
      "source": [
        "# Now with unpacking!\n",
        "for (t1,t2) in l:\n",
        "    print(t1)"
      ]
    },
    {
      "cell_type": "markdown",
      "metadata": {
        "id": "6W35f2xZOaxA"
      },
      "source": [
        "- With tuples in a sequence we can access the items inside of them through unpacking! The reason this is important is because many object will deliver their iterables through tuples."
      ]
    },
    {
      "cell_type": "markdown",
      "metadata": {
        "id": "g7yp12oxOaxA"
      },
      "source": [
        "\n",
        "\n",
        "> **Exercise 3:** Odd or Even\n",
        ">\n",
        "> The code snippet below enable the user to enter a number.\n",
        "\n",
        "\n",
        "Check if this number is odd or even. Optionnaly, handle bad inputs (character, float, signs, etc)\n"
      ]
    },
    {
      "cell_type": "code",
      "execution_count": null,
      "metadata": {
        "id": "hi2ZyMNJOaxA"
      },
      "outputs": [],
      "source": [
        "def check_even_odd(num):\n",
        "    while True:\n",
        "        try:\n",
        "            if num % 2 == 0:\n",
        "                print(f\"{num} is even.\")\n",
        "            else:\n",
        "                print(f\"{num} is odd.\")\n",
        "            break\n",
        "        except ValueError:\n",
        "            print(\"Invalid input. Please enter an integer.\")"
      ]
    },
    {
      "cell_type": "code",
      "execution_count": null,
      "metadata": {
        "id": "8saycrd7OaxA",
        "outputId": "4e68032c-239b-4333-976f-afab33ec5fe6"
      },
      "outputs": [
        {
          "name": "stdout",
          "output_type": "stream",
          "text": [
            "3\n",
            "3 is odd.\n"
          ]
        }
      ],
      "source": [
        "num = input(\"Enter a number: \")\n",
        "print(num)\n",
        "check_even_odd(int(num))\n"
      ]
    },
    {
      "cell_type": "markdown",
      "metadata": {
        "id": "qcb7hhNkOaxA"
      },
      "source": [
        ">**Exercise 4**\n",
        ">\n",
        ">Problem: Calculating Discount\n",
        ">\n",
        ">You're managing a store, and you want to implement a function to calculate the discount for >your customers based on their total purchase amount.\n",
        ">Write a function that returns one of three possible discount levels: \"No Discount\", \"Small >Discount\", or \"Big Discount\".\n",
        ">\n",
        ">The discount rules are as follows:\n",
        ">- If the total purchase amount is less than or equal to $50, there's no discount.\n",
        ">- If the total purchase amount is between $51 and $100 (inclusive), the discount is >considered a \"Small Discount\".\n",
        ">- If the total purchase amount is greater than $100, the discount is considered a \"Big >Discount\".\n",
        ">\n",
        ">However, if it's the customer's birthday (encoded as a boolean value in the parameters of >the function), they are eligible for an additional $10 discount regardless of their total >purchase amount.\n",
        ">\n",
        ">Write a function called `calculate_discount(total_amount, is_birthday)` that takes two >parameters:\n",
        ">- `total_amount`: The total purchase amount.\n",
        ">- `is_birthday`: A boolean indicating if it's the customer's birthday.\n",
        ">\n",
        ">The function should return one of the three possible discount levels based on the rules >described above.\n"
      ]
    },
    {
      "cell_type": "code",
      "execution_count": null,
      "metadata": {
        "id": "TgqmHHFVOaxA"
      },
      "outputs": [],
      "source": [
        "def calculate_discount(total_amount, is_birthday):\n",
        "    if is_birthday:\n",
        "        total_amount -= 10\n",
        "\n",
        "    if total_amount <= 50:\n",
        "        return \"No Discount\"\n",
        "    elif 51 <= total_amount <= 100:\n",
        "        return \"Small Discount\"\n",
        "    else:\n",
        "        return \"Big Discount\"\n",
        "\n"
      ]
    },
    {
      "cell_type": "code",
      "execution_count": null,
      "metadata": {
        "id": "2GpRFVyLOaxA",
        "outputId": "7f1f9c53-cba8-44a7-9b90-7e24d13649e2"
      },
      "outputs": [
        {
          "name": "stdout",
          "output_type": "stream",
          "text": [
            "Discount Level: Small Discount\n"
          ]
        }
      ],
      "source": [
        "# Example usage:\n",
        "total_amount = float(input(\"Enter the total purchase amount: \"))\n",
        "is_birthday = input(\"Is it the customer's birthday? (True/False): \").lower() == \"true\"\n",
        "\n",
        "discount_level = calculate_discount(total_amount, is_birthday)\n",
        "print(\"Discount Level:\", discount_level)\n"
      ]
    },
    {
      "cell_type": "markdown",
      "metadata": {
        "id": "9yBYJhkMOaxA"
      },
      "source": [
        "# **Good Job :)**"
      ]
    },
    {
      "cell_type": "markdown",
      "metadata": {
        "id": "MUplRtJyOaxA"
      },
      "source": []
    }
  ],
  "metadata": {
    "kernelspec": {
      "display_name": "Python 3 (ipykernel)",
      "language": "python",
      "name": "python3"
    },
    "language_info": {
      "codemirror_mode": {
        "name": "ipython",
        "version": 3
      },
      "file_extension": ".py",
      "mimetype": "text/x-python",
      "name": "python",
      "nbconvert_exporter": "python",
      "pygments_lexer": "ipython3",
      "version": "3.8.8"
    },
    "varInspector": {
      "cols": {
        "lenName": 16,
        "lenType": 16,
        "lenVar": 40
      },
      "kernels_config": {
        "python": {
          "delete_cmd_postfix": "",
          "delete_cmd_prefix": "del ",
          "library": "var_list.py",
          "varRefreshCmd": "print(var_dic_list())"
        },
        "r": {
          "delete_cmd_postfix": ") ",
          "delete_cmd_prefix": "rm(",
          "library": "var_list.r",
          "varRefreshCmd": "cat(var_dic_list()) "
        }
      },
      "types_to_exclude": [
        "module",
        "function",
        "builtin_function_or_method",
        "instance",
        "_Feature"
      ],
      "window_display": false
    },
    "vscode": {
      "interpreter": {
        "hash": "98e8ddf1456075255bafe88ec8d9f1f1518b51b1022408d6a56800e29cc559b5"
      }
    },
    "colab": {
      "provenance": []
    }
  },
  "nbformat": 4,
  "nbformat_minor": 0
}